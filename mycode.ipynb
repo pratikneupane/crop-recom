{
 "cells": [
  {
   "cell_type": "markdown",
   "id": "de4b4fe0",
   "metadata": {},
   "source": [
    "# CROP RECOMMENDATION SYSTEM"
   ]
  },
  {
   "cell_type": "code",
   "execution_count": 1,
   "id": "a7a09a9f",
   "metadata": {},
   "outputs": [],
   "source": [
    "import numpy as np\n",
    "import pandas as pd\n",
    "crop = pd.read_csv(\"Crop_recommendation.csv\")\n",
    "#it is the classification problem because of supervised learning"
   ]
  },
  {
   "cell_type": "code",
   "execution_count": 2,
   "id": "ca9c5f82",
   "metadata": {},
   "outputs": [
    {
     "name": "stdout",
     "output_type": "stream",
     "text": [
      "        N   P   K  temperature   humidity        ph    rainfall   label\n",
      "0      90  42  43    20.879744  82.002744  6.502985  202.935536    rice\n",
      "1      85  58  41    21.770462  80.319644  7.038096  226.655537    rice\n",
      "2      60  55  44    23.004459  82.320763  7.840207  263.964248    rice\n",
      "3      74  35  40    26.491096  80.158363  6.980401  242.864034    rice\n",
      "4      78  42  42    20.130175  81.604873  7.628473  262.717340    rice\n",
      "...   ...  ..  ..          ...        ...       ...         ...     ...\n",
      "2195  107  34  32    26.774637  66.413269  6.780064  177.774507  coffee\n",
      "2196   99  15  27    27.417112  56.636362  6.086922  127.924610  coffee\n",
      "2197  118  33  30    24.131797  67.225123  6.362608  173.322839  coffee\n",
      "2198  117  32  34    26.272418  52.127394  6.758793  127.175293  coffee\n",
      "2199  104  18  30    23.603016  60.396475  6.779833  140.937041  coffee\n",
      "\n",
      "[2200 rows x 8 columns]\n"
     ]
    }
   ],
   "source": [
    "print(crop)"
   ]
  },
  {
   "cell_type": "code",
   "execution_count": 3,
   "id": "219a2433",
   "metadata": {},
   "outputs": [
    {
     "data": {
      "text/plain": [
       "<bound method NDFrame.head of         N   P   K  temperature   humidity        ph    rainfall   label\n",
       "0      90  42  43    20.879744  82.002744  6.502985  202.935536    rice\n",
       "1      85  58  41    21.770462  80.319644  7.038096  226.655537    rice\n",
       "2      60  55  44    23.004459  82.320763  7.840207  263.964248    rice\n",
       "3      74  35  40    26.491096  80.158363  6.980401  242.864034    rice\n",
       "4      78  42  42    20.130175  81.604873  7.628473  262.717340    rice\n",
       "...   ...  ..  ..          ...        ...       ...         ...     ...\n",
       "2195  107  34  32    26.774637  66.413269  6.780064  177.774507  coffee\n",
       "2196   99  15  27    27.417112  56.636362  6.086922  127.924610  coffee\n",
       "2197  118  33  30    24.131797  67.225123  6.362608  173.322839  coffee\n",
       "2198  117  32  34    26.272418  52.127394  6.758793  127.175293  coffee\n",
       "2199  104  18  30    23.603016  60.396475  6.779833  140.937041  coffee\n",
       "\n",
       "[2200 rows x 8 columns]>"
      ]
     },
     "execution_count": 3,
     "metadata": {},
     "output_type": "execute_result"
    }
   ],
   "source": [
    "crop.head"
   ]
  },
  {
   "cell_type": "code",
   "execution_count": 4,
   "id": "50d6742d",
   "metadata": {},
   "outputs": [
    {
     "data": {
      "text/html": [
       "<div>\n",
       "<style scoped>\n",
       "    .dataframe tbody tr th:only-of-type {\n",
       "        vertical-align: middle;\n",
       "    }\n",
       "\n",
       "    .dataframe tbody tr th {\n",
       "        vertical-align: top;\n",
       "    }\n",
       "\n",
       "    .dataframe thead th {\n",
       "        text-align: right;\n",
       "    }\n",
       "</style>\n",
       "<table border=\"1\" class=\"dataframe\">\n",
       "  <thead>\n",
       "    <tr style=\"text-align: right;\">\n",
       "      <th></th>\n",
       "      <th>N</th>\n",
       "      <th>P</th>\n",
       "      <th>K</th>\n",
       "      <th>temperature</th>\n",
       "      <th>humidity</th>\n",
       "      <th>ph</th>\n",
       "      <th>rainfall</th>\n",
       "      <th>label</th>\n",
       "    </tr>\n",
       "  </thead>\n",
       "  <tbody>\n",
       "    <tr>\n",
       "      <th>0</th>\n",
       "      <td>90</td>\n",
       "      <td>42</td>\n",
       "      <td>43</td>\n",
       "      <td>20.879744</td>\n",
       "      <td>82.002744</td>\n",
       "      <td>6.502985</td>\n",
       "      <td>202.935536</td>\n",
       "      <td>rice</td>\n",
       "    </tr>\n",
       "    <tr>\n",
       "      <th>1</th>\n",
       "      <td>85</td>\n",
       "      <td>58</td>\n",
       "      <td>41</td>\n",
       "      <td>21.770462</td>\n",
       "      <td>80.319644</td>\n",
       "      <td>7.038096</td>\n",
       "      <td>226.655537</td>\n",
       "      <td>rice</td>\n",
       "    </tr>\n",
       "    <tr>\n",
       "      <th>2</th>\n",
       "      <td>60</td>\n",
       "      <td>55</td>\n",
       "      <td>44</td>\n",
       "      <td>23.004459</td>\n",
       "      <td>82.320763</td>\n",
       "      <td>7.840207</td>\n",
       "      <td>263.964248</td>\n",
       "      <td>rice</td>\n",
       "    </tr>\n",
       "    <tr>\n",
       "      <th>3</th>\n",
       "      <td>74</td>\n",
       "      <td>35</td>\n",
       "      <td>40</td>\n",
       "      <td>26.491096</td>\n",
       "      <td>80.158363</td>\n",
       "      <td>6.980401</td>\n",
       "      <td>242.864034</td>\n",
       "      <td>rice</td>\n",
       "    </tr>\n",
       "    <tr>\n",
       "      <th>4</th>\n",
       "      <td>78</td>\n",
       "      <td>42</td>\n",
       "      <td>42</td>\n",
       "      <td>20.130175</td>\n",
       "      <td>81.604873</td>\n",
       "      <td>7.628473</td>\n",
       "      <td>262.717340</td>\n",
       "      <td>rice</td>\n",
       "    </tr>\n",
       "  </tbody>\n",
       "</table>\n",
       "</div>"
      ],
      "text/plain": [
       "    N   P   K  temperature   humidity        ph    rainfall label\n",
       "0  90  42  43    20.879744  82.002744  6.502985  202.935536  rice\n",
       "1  85  58  41    21.770462  80.319644  7.038096  226.655537  rice\n",
       "2  60  55  44    23.004459  82.320763  7.840207  263.964248  rice\n",
       "3  74  35  40    26.491096  80.158363  6.980401  242.864034  rice\n",
       "4  78  42  42    20.130175  81.604873  7.628473  262.717340  rice"
      ]
     },
     "execution_count": 4,
     "metadata": {},
     "output_type": "execute_result"
    }
   ],
   "source": [
    "crop.head()"
   ]
  },
  {
   "cell_type": "code",
   "execution_count": 5,
   "id": "f6f6945a",
   "metadata": {},
   "outputs": [
    {
     "data": {
      "text/plain": [
       "(2200, 8)"
      ]
     },
     "execution_count": 5,
     "metadata": {},
     "output_type": "execute_result"
    }
   ],
   "source": [
    "crop.shape\n",
    "# variable crop is our dataset\n",
    "# Here we find the size of data\n",
    "# [2200 rows x 8 columns]"
   ]
  },
  {
   "cell_type": "code",
   "execution_count": 6,
   "id": "911db115",
   "metadata": {},
   "outputs": [
    {
     "data": {
      "text/plain": [
       "<bound method DataFrame.info of         N   P   K  temperature   humidity        ph    rainfall   label\n",
       "0      90  42  43    20.879744  82.002744  6.502985  202.935536    rice\n",
       "1      85  58  41    21.770462  80.319644  7.038096  226.655537    rice\n",
       "2      60  55  44    23.004459  82.320763  7.840207  263.964248    rice\n",
       "3      74  35  40    26.491096  80.158363  6.980401  242.864034    rice\n",
       "4      78  42  42    20.130175  81.604873  7.628473  262.717340    rice\n",
       "...   ...  ..  ..          ...        ...       ...         ...     ...\n",
       "2195  107  34  32    26.774637  66.413269  6.780064  177.774507  coffee\n",
       "2196   99  15  27    27.417112  56.636362  6.086922  127.924610  coffee\n",
       "2197  118  33  30    24.131797  67.225123  6.362608  173.322839  coffee\n",
       "2198  117  32  34    26.272418  52.127394  6.758793  127.175293  coffee\n",
       "2199  104  18  30    23.603016  60.396475  6.779833  140.937041  coffee\n",
       "\n",
       "[2200 rows x 8 columns]>"
      ]
     },
     "execution_count": 6,
     "metadata": {},
     "output_type": "execute_result"
    }
   ],
   "source": [
    "crop.info"
   ]
  },
  {
   "cell_type": "code",
   "execution_count": 7,
   "id": "707ca3d1",
   "metadata": {},
   "outputs": [
    {
     "data": {
      "text/plain": [
       "N              0\n",
       "P              0\n",
       "K              0\n",
       "temperature    0\n",
       "humidity       0\n",
       "ph             0\n",
       "rainfall       0\n",
       "label          0\n",
       "dtype: int64"
      ]
     },
     "execution_count": 7,
     "metadata": {},
     "output_type": "execute_result"
    }
   ],
   "source": [
    "crop.isnull().sum()\n",
    "# null test\n",
    "# it denotes not any null value are here"
   ]
  },
  {
   "cell_type": "code",
   "execution_count": 8,
   "id": "d17f98ac",
   "metadata": {},
   "outputs": [
    {
     "data": {
      "text/plain": [
       "np.int64(0)"
      ]
     },
     "execution_count": 8,
     "metadata": {},
     "output_type": "execute_result"
    }
   ],
   "source": [
    "crop.duplicated().sum()\n",
    "# no duplicate values are here"
   ]
  },
  {
   "cell_type": "code",
   "execution_count": 9,
   "id": "a60bf5e9",
   "metadata": {},
   "outputs": [
    {
     "data": {
      "text/html": [
       "<div>\n",
       "<style scoped>\n",
       "    .dataframe tbody tr th:only-of-type {\n",
       "        vertical-align: middle;\n",
       "    }\n",
       "\n",
       "    .dataframe tbody tr th {\n",
       "        vertical-align: top;\n",
       "    }\n",
       "\n",
       "    .dataframe thead th {\n",
       "        text-align: right;\n",
       "    }\n",
       "</style>\n",
       "<table border=\"1\" class=\"dataframe\">\n",
       "  <thead>\n",
       "    <tr style=\"text-align: right;\">\n",
       "      <th></th>\n",
       "      <th>N</th>\n",
       "      <th>P</th>\n",
       "      <th>K</th>\n",
       "      <th>temperature</th>\n",
       "      <th>humidity</th>\n",
       "      <th>ph</th>\n",
       "      <th>rainfall</th>\n",
       "    </tr>\n",
       "  </thead>\n",
       "  <tbody>\n",
       "    <tr>\n",
       "      <th>count</th>\n",
       "      <td>2200.000000</td>\n",
       "      <td>2200.000000</td>\n",
       "      <td>2200.000000</td>\n",
       "      <td>2200.000000</td>\n",
       "      <td>2200.000000</td>\n",
       "      <td>2200.000000</td>\n",
       "      <td>2200.000000</td>\n",
       "    </tr>\n",
       "    <tr>\n",
       "      <th>mean</th>\n",
       "      <td>50.551818</td>\n",
       "      <td>53.362727</td>\n",
       "      <td>48.149091</td>\n",
       "      <td>25.616244</td>\n",
       "      <td>71.481779</td>\n",
       "      <td>6.469480</td>\n",
       "      <td>103.463655</td>\n",
       "    </tr>\n",
       "    <tr>\n",
       "      <th>std</th>\n",
       "      <td>36.917334</td>\n",
       "      <td>32.985883</td>\n",
       "      <td>50.647931</td>\n",
       "      <td>5.063749</td>\n",
       "      <td>22.263812</td>\n",
       "      <td>0.773938</td>\n",
       "      <td>54.958389</td>\n",
       "    </tr>\n",
       "    <tr>\n",
       "      <th>min</th>\n",
       "      <td>0.000000</td>\n",
       "      <td>5.000000</td>\n",
       "      <td>5.000000</td>\n",
       "      <td>8.825675</td>\n",
       "      <td>14.258040</td>\n",
       "      <td>3.504752</td>\n",
       "      <td>20.211267</td>\n",
       "    </tr>\n",
       "    <tr>\n",
       "      <th>25%</th>\n",
       "      <td>21.000000</td>\n",
       "      <td>28.000000</td>\n",
       "      <td>20.000000</td>\n",
       "      <td>22.769375</td>\n",
       "      <td>60.261953</td>\n",
       "      <td>5.971693</td>\n",
       "      <td>64.551686</td>\n",
       "    </tr>\n",
       "    <tr>\n",
       "      <th>50%</th>\n",
       "      <td>37.000000</td>\n",
       "      <td>51.000000</td>\n",
       "      <td>32.000000</td>\n",
       "      <td>25.598693</td>\n",
       "      <td>80.473146</td>\n",
       "      <td>6.425045</td>\n",
       "      <td>94.867624</td>\n",
       "    </tr>\n",
       "    <tr>\n",
       "      <th>75%</th>\n",
       "      <td>84.250000</td>\n",
       "      <td>68.000000</td>\n",
       "      <td>49.000000</td>\n",
       "      <td>28.561654</td>\n",
       "      <td>89.948771</td>\n",
       "      <td>6.923643</td>\n",
       "      <td>124.267508</td>\n",
       "    </tr>\n",
       "    <tr>\n",
       "      <th>max</th>\n",
       "      <td>140.000000</td>\n",
       "      <td>145.000000</td>\n",
       "      <td>205.000000</td>\n",
       "      <td>43.675493</td>\n",
       "      <td>99.981876</td>\n",
       "      <td>9.935091</td>\n",
       "      <td>298.560117</td>\n",
       "    </tr>\n",
       "  </tbody>\n",
       "</table>\n",
       "</div>"
      ],
      "text/plain": [
       "                 N            P            K  temperature     humidity  \\\n",
       "count  2200.000000  2200.000000  2200.000000  2200.000000  2200.000000   \n",
       "mean     50.551818    53.362727    48.149091    25.616244    71.481779   \n",
       "std      36.917334    32.985883    50.647931     5.063749    22.263812   \n",
       "min       0.000000     5.000000     5.000000     8.825675    14.258040   \n",
       "25%      21.000000    28.000000    20.000000    22.769375    60.261953   \n",
       "50%      37.000000    51.000000    32.000000    25.598693    80.473146   \n",
       "75%      84.250000    68.000000    49.000000    28.561654    89.948771   \n",
       "max     140.000000   145.000000   205.000000    43.675493    99.981876   \n",
       "\n",
       "                ph     rainfall  \n",
       "count  2200.000000  2200.000000  \n",
       "mean      6.469480   103.463655  \n",
       "std       0.773938    54.958389  \n",
       "min       3.504752    20.211267  \n",
       "25%       5.971693    64.551686  \n",
       "50%       6.425045    94.867624  \n",
       "75%       6.923643   124.267508  \n",
       "max       9.935091   298.560117  "
      ]
     },
     "execution_count": 9,
     "metadata": {},
     "output_type": "execute_result"
    }
   ],
   "source": [
    "crop.describe()\n",
    "# numerical feature or status check gareko\n",
    "# statistics task gareko ho...\n",
    "# (25%,N)=>21 bhnada kam data haru 25% xa...\n",
    "# It is percentile, not percentage"
   ]
  },
  {
   "cell_type": "code",
   "execution_count": 10,
   "id": "14cdfba6",
   "metadata": {},
   "outputs": [
    {
     "data": {
      "text/html": [
       "<div>\n",
       "<style scoped>\n",
       "    .dataframe tbody tr th:only-of-type {\n",
       "        vertical-align: middle;\n",
       "    }\n",
       "\n",
       "    .dataframe tbody tr th {\n",
       "        vertical-align: top;\n",
       "    }\n",
       "\n",
       "    .dataframe thead th {\n",
       "        text-align: right;\n",
       "    }\n",
       "</style>\n",
       "<table border=\"1\" class=\"dataframe\">\n",
       "  <thead>\n",
       "    <tr style=\"text-align: right;\">\n",
       "      <th></th>\n",
       "      <th>N</th>\n",
       "      <th>P</th>\n",
       "      <th>K</th>\n",
       "      <th>temperature</th>\n",
       "      <th>humidity</th>\n",
       "      <th>ph</th>\n",
       "      <th>rainfall</th>\n",
       "    </tr>\n",
       "  </thead>\n",
       "  <tbody>\n",
       "    <tr>\n",
       "      <th>N</th>\n",
       "      <td>1.000000</td>\n",
       "      <td>-0.231460</td>\n",
       "      <td>-0.140512</td>\n",
       "      <td>0.026504</td>\n",
       "      <td>0.190688</td>\n",
       "      <td>0.096683</td>\n",
       "      <td>0.059020</td>\n",
       "    </tr>\n",
       "    <tr>\n",
       "      <th>P</th>\n",
       "      <td>-0.231460</td>\n",
       "      <td>1.000000</td>\n",
       "      <td>0.736232</td>\n",
       "      <td>-0.127541</td>\n",
       "      <td>-0.118734</td>\n",
       "      <td>-0.138019</td>\n",
       "      <td>-0.063839</td>\n",
       "    </tr>\n",
       "    <tr>\n",
       "      <th>K</th>\n",
       "      <td>-0.140512</td>\n",
       "      <td>0.736232</td>\n",
       "      <td>1.000000</td>\n",
       "      <td>-0.160387</td>\n",
       "      <td>0.190859</td>\n",
       "      <td>-0.169503</td>\n",
       "      <td>-0.053461</td>\n",
       "    </tr>\n",
       "    <tr>\n",
       "      <th>temperature</th>\n",
       "      <td>0.026504</td>\n",
       "      <td>-0.127541</td>\n",
       "      <td>-0.160387</td>\n",
       "      <td>1.000000</td>\n",
       "      <td>0.205320</td>\n",
       "      <td>-0.017795</td>\n",
       "      <td>-0.030084</td>\n",
       "    </tr>\n",
       "    <tr>\n",
       "      <th>humidity</th>\n",
       "      <td>0.190688</td>\n",
       "      <td>-0.118734</td>\n",
       "      <td>0.190859</td>\n",
       "      <td>0.205320</td>\n",
       "      <td>1.000000</td>\n",
       "      <td>-0.008483</td>\n",
       "      <td>0.094423</td>\n",
       "    </tr>\n",
       "    <tr>\n",
       "      <th>ph</th>\n",
       "      <td>0.096683</td>\n",
       "      <td>-0.138019</td>\n",
       "      <td>-0.169503</td>\n",
       "      <td>-0.017795</td>\n",
       "      <td>-0.008483</td>\n",
       "      <td>1.000000</td>\n",
       "      <td>-0.109069</td>\n",
       "    </tr>\n",
       "    <tr>\n",
       "      <th>rainfall</th>\n",
       "      <td>0.059020</td>\n",
       "      <td>-0.063839</td>\n",
       "      <td>-0.053461</td>\n",
       "      <td>-0.030084</td>\n",
       "      <td>0.094423</td>\n",
       "      <td>-0.109069</td>\n",
       "      <td>1.000000</td>\n",
       "    </tr>\n",
       "  </tbody>\n",
       "</table>\n",
       "</div>"
      ],
      "text/plain": [
       "                    N         P         K  temperature  humidity        ph  \\\n",
       "N            1.000000 -0.231460 -0.140512     0.026504  0.190688  0.096683   \n",
       "P           -0.231460  1.000000  0.736232    -0.127541 -0.118734 -0.138019   \n",
       "K           -0.140512  0.736232  1.000000    -0.160387  0.190859 -0.169503   \n",
       "temperature  0.026504 -0.127541 -0.160387     1.000000  0.205320 -0.017795   \n",
       "humidity     0.190688 -0.118734  0.190859     0.205320  1.000000 -0.008483   \n",
       "ph           0.096683 -0.138019 -0.169503    -0.017795 -0.008483  1.000000   \n",
       "rainfall     0.059020 -0.063839 -0.053461    -0.030084  0.094423 -0.109069   \n",
       "\n",
       "             rainfall  \n",
       "N            0.059020  \n",
       "P           -0.063839  \n",
       "K           -0.053461  \n",
       "temperature -0.030084  \n",
       "humidity     0.094423  \n",
       "ph          -0.109069  \n",
       "rainfall     1.000000  "
      ]
     },
     "execution_count": 10,
     "metadata": {},
     "output_type": "execute_result"
    }
   ],
   "source": [
    "numeric_crop = crop.select_dtypes(include=['number'])\n",
    "corr = numeric_crop.corr()\n",
    "corr\n",
    "# here we find correlation\n",
    "# aafai aafai sanga positive correlation hunxa"
   ]
  },
  {
   "cell_type": "code",
   "execution_count": 11,
   "id": "5efa1099",
   "metadata": {},
   "outputs": [
    {
     "data": {
      "text/plain": [
       "<Axes: >"
      ]
     },
     "execution_count": 11,
     "metadata": {},
     "output_type": "execute_result"
    },
    {
     "data": {
      "image/png": "[encoded data removed]",
      "text/plain": [
       "<Figure size 640x480 with 2 Axes>"
      ]
     },
     "metadata": {},
     "output_type": "display_data"
    }
   ],
   "source": [
    "# Graphical representation of correlation\n",
    "import seaborn as sns\n",
    "sns.heatmap(corr, annot = True, cbar = True, cmap = \"coolwarm\")"
   ]
  },
  {
   "cell_type": "code",
   "execution_count": 12,
   "id": "3a45f096",
   "metadata": {},
   "outputs": [
    {
     "data": {
      "text/plain": [
       "label\n",
       "rice           100\n",
       "maize          100\n",
       "chickpea       100\n",
       "kidneybeans    100\n",
       "pigeonpeas     100\n",
       "mothbeans      100\n",
       "mungbean       100\n",
       "blackgram      100\n",
       "lentil         100\n",
       "pomegranate    100\n",
       "banana         100\n",
       "mango          100\n",
       "grapes         100\n",
       "watermelon     100\n",
       "muskmelon      100\n",
       "apple          100\n",
       "orange         100\n",
       "papaya         100\n",
       "coconut        100\n",
       "cotton         100\n",
       "jute           100\n",
       "coffee         100\n",
       "Name: count, dtype: int64"
      ]
     },
     "execution_count": 12,
     "metadata": {},
     "output_type": "execute_result"
    }
   ],
   "source": [
    "crop['label'].value_counts()"
   ]
  },
  {
   "cell_type": "code",
   "execution_count": 13,
   "id": "7a339066",
   "metadata": {
    "scrolled": false
   },
   "outputs": [
    {
     "name": "stderr",
     "output_type": "stream",
     "text": [
      "/tmp/ipykernel_22485/3584871093.py:3: UserWarning: \n",
      "\n",
      "`distplot` is a deprecated function and will be removed in seaborn v0.14.0.\n",
      "\n",
      "Please adapt your code to use either `displot` (a figure-level function with\n",
      "similar flexibility) or `histplot` (an axes-level function for histograms).\n",
      "\n",
      "For a guide to updating your code to use the new functions, please see\n",
      "https://gist.github.com/mwaskom/de44147ed2974457ad6372750bbe5751\n",
      "\n",
      "  sns.distplot(crop['N'])\n"
     ]
    },
    {
     "data": {
      "image/png": "[encoded data removed]",
      "text/plain": [
       "<Figure size 640x480 with 1 Axes>"
      ]
     },
     "metadata": {},
     "output_type": "display_data"
    },
    {
     "name": "stderr",
     "output_type": "stream",
     "text": [
      "/tmp/ipykernel_22485/3584871093.py:7: UserWarning: \n",
      "\n",
      "`distplot` is a deprecated function and will be removed in seaborn v0.14.0.\n",
      "\n",
      "Please adapt your code to use either `displot` (a figure-level function with\n",
      "similar flexibility) or `histplot` (an axes-level function for histograms).\n",
      "\n",
      "For a guide to updating your code to use the new functions, please see\n",
      "https://gist.github.com/mwaskom/de44147ed2974457ad6372750bbe5751\n",
      "\n",
      "  sns.distplot(crop['P'])\n"
     ]
    },
    {
     "data": {
      "image/png": "[encoded data removed]",
      "text/plain": [
       "<Figure size 640x480 with 1 Axes>"
      ]
     },
     "metadata": {},
     "output_type": "display_data"
    },
    {
     "name": "stderr",
     "output_type": "stream",
     "text": [
      "/tmp/ipykernel_22485/3584871093.py:11: UserWarning: \n",
      "\n",
      "`distplot` is a deprecated function and will be removed in seaborn v0.14.0.\n",
      "\n",
      "Please adapt your code to use either `displot` (a figure-level function with\n",
      "similar flexibility) or `histplot` (an axes-level function for histograms).\n",
      "\n",
      "For a guide to updating your code to use the new functions, please see\n",
      "https://gist.github.com/mwaskom/de44147ed2974457ad6372750bbe5751\n",
      "\n",
      "  sns.distplot(crop['K'])\n"
     ]
    },
    {
     "data": {
      "image/png": "[encoded data removed]",
      "text/plain": [
       "<Figure size 640x480 with 1 Axes>"
      ]
     },
     "metadata": {},
     "output_type": "display_data"
    },
    {
     "name": "stderr",
     "output_type": "stream",
     "text": [
      "/tmp/ipykernel_22485/3584871093.py:15: UserWarning: \n",
      "\n",
      "`distplot` is a deprecated function and will be removed in seaborn v0.14.0.\n",
      "\n",
      "Please adapt your code to use either `displot` (a figure-level function with\n",
      "similar flexibility) or `histplot` (an axes-level function for histograms).\n",
      "\n",
      "For a guide to updating your code to use the new functions, please see\n",
      "https://gist.github.com/mwaskom/de44147ed2974457ad6372750bbe5751\n",
      "\n",
      "  sns.distplot(crop['temperature'])\n"
     ]
    },
    {
     "data": {
      "image/png": "[encoded data removed]",
      "text/plain": [
       "<Figure size 640x480 with 1 Axes>"
      ]
     },
     "metadata": {},
     "output_type": "display_data"
    },
    {
     "name": "stderr",
     "output_type": "stream",
     "text": [
      "/tmp/ipykernel_22485/3584871093.py:19: UserWarning: \n",
      "\n",
      "`distplot` is a deprecated function and will be removed in seaborn v0.14.0.\n",
      "\n",
      "Please adapt your code to use either `displot` (a figure-level function with\n",
      "similar flexibility) or `histplot` (an axes-level function for histograms).\n",
      "\n",
      "For a guide to updating your code to use the new functions, please see\n",
      "https://gist.github.com/mwaskom/de44147ed2974457ad6372750bbe5751\n",
      "\n",
      "  sns.distplot(crop['humidity'])\n"
     ]
    },
    {
     "data": {
      "image/png": "[encoded data removed]",
      "text/plain": [
       "<Figure size 640x480 with 1 Axes>"
      ]
     },
     "metadata": {},
     "output_type": "display_data"
    },
    {
     "name": "stderr",
     "output_type": "stream",
     "text": [
      "/tmp/ipykernel_22485/3584871093.py:23: UserWarning: \n",
      "\n",
      "`distplot` is a deprecated function and will be removed in seaborn v0.14.0.\n",
      "\n",
      "Please adapt your code to use either `displot` (a figure-level function with\n",
      "similar flexibility) or `histplot` (an axes-level function for histograms).\n",
      "\n",
      "For a guide to updating your code to use the new functions, please see\n",
      "https://gist.github.com/mwaskom/de44147ed2974457ad6372750bbe5751\n",
      "\n",
      "  sns.distplot(crop['ph'])\n"
     ]
    },
    {
     "data": {
      "image/png": "[encoded data removed]",
      "text/plain": [
       "<Figure size 640x480 with 1 Axes>"
      ]
     },
     "metadata": {},
     "output_type": "display_data"
    },
    {
     "name": "stderr",
     "output_type": "stream",
     "text": [
      "/tmp/ipykernel_22485/3584871093.py:27: UserWarning: \n",
      "\n",
      "`distplot` is a deprecated function and will be removed in seaborn v0.14.0.\n",
      "\n",
      "Please adapt your code to use either `displot` (a figure-level function with\n",
      "similar flexibility) or `histplot` (an axes-level function for histograms).\n",
      "\n",
      "For a guide to updating your code to use the new functions, please see\n",
      "https://gist.github.com/mwaskom/de44147ed2974457ad6372750bbe5751\n",
      "\n",
      "  sns.distplot(crop['rainfall'])\n"
     ]
    },
    {
     "data": {
      "image/png": "[encoded data removed]",
      "text/plain": [
       "<Figure size 640x480 with 1 Axes>"
      ]
     },
     "metadata": {},
     "output_type": "display_data"
    }
   ],
   "source": [
    "# GRAPHICAL REPRESENTATION\n",
    "import matplotlib.pyplot as plt\n",
    "sns.distplot(crop['N'])\n",
    "plt.show()\n",
    "# GRAPHICAL REPRESENTATION\n",
    "import matplotlib.pyplot as plt\n",
    "sns.distplot(crop['P'])\n",
    "plt.show()\n",
    "# GRAPHICAL REPRESENTATION\n",
    "import matplotlib.pyplot as plt\n",
    "sns.distplot(crop['K'])\n",
    "plt.show()\n",
    "# GRAPHICAL REPRESENTATION\n",
    "import matplotlib.pyplot as plt\n",
    "sns.distplot(crop['temperature'])\n",
    "plt.show()\n",
    "# GRAPHICAL REPRESENTATION\n",
    "import matplotlib.pyplot as plt\n",
    "sns.distplot(crop['humidity'])\n",
    "plt.show()\n",
    "# GRAPHICAL REPRESENTATION\n",
    "import matplotlib.pyplot as plt\n",
    "sns.distplot(crop['ph'])\n",
    "plt.show()\n",
    "# GRAPHICAL REPRESENTATION\n",
    "import matplotlib.pyplot as plt\n",
    "sns.distplot(crop['rainfall'])\n",
    "plt.show()"
   ]
  },
  {
   "cell_type": "code",
   "execution_count": 14,
   "id": "f9d3d070",
   "metadata": {},
   "outputs": [],
   "source": [
    "crop_dict = {\n",
    "    'rice': 1,\n",
    "    'maize': 2,\n",
    "    'jute': 3,\n",
    "    'cotton': 4,\n",
    "    'coconut': 5,\n",
    "    'papaya': 6,\n",
    "    'orange': 7,\n",
    "    'apple': 8,\n",
    "    'muskmelon': 9,\n",
    "    'watermelon': 10,\n",
    "    'grapes': 11,\n",
    "    'mango': 12,\n",
    "    'banana': 13,\n",
    "    'pomegranate': 14,\n",
    "    'lentil': 15,\n",
    "    'blackgram': 16,\n",
    "    'mungbean': 17,\n",
    "    'mothbeans': 18,\n",
    "    'pigeonpeas': 19,\n",
    "    'kidneybeans': 20,\n",
    "    'chickpea': 21,\n",
    "    'coffee': 22\n",
    "}\n",
    "crop['crop_num'] = crop['label'].map(crop_dict)\n",
    "\n",
    "# #ENCODING SECTION\n",
    "# # creating a dictionary\n",
    "\n",
    "\n",
    "# #MAPPNG\n",
    "\n",
    "# crop['crop_num'] = crop['label'].map(crop_dict)\n",
    "\n",
    "# # print(\"success mapping\")    "
   ]
  },
  {
   "cell_type": "code",
   "execution_count": 15,
   "id": "59ccfe24",
   "metadata": {},
   "outputs": [
    {
     "data": {
      "text/html": [
       "<div>\n",
       "<style scoped>\n",
       "    .dataframe tbody tr th:only-of-type {\n",
       "        vertical-align: middle;\n",
       "    }\n",
       "\n",
       "    .dataframe tbody tr th {\n",
       "        vertical-align: top;\n",
       "    }\n",
       "\n",
       "    .dataframe thead th {\n",
       "        text-align: right;\n",
       "    }\n",
       "</style>\n",
       "<table border=\"1\" class=\"dataframe\">\n",
       "  <thead>\n",
       "    <tr style=\"text-align: right;\">\n",
       "      <th></th>\n",
       "      <th>N</th>\n",
       "      <th>P</th>\n",
       "      <th>K</th>\n",
       "      <th>temperature</th>\n",
       "      <th>humidity</th>\n",
       "      <th>ph</th>\n",
       "      <th>rainfall</th>\n",
       "      <th>label</th>\n",
       "      <th>crop_num</th>\n",
       "    </tr>\n",
       "  </thead>\n",
       "  <tbody>\n",
       "    <tr>\n",
       "      <th>0</th>\n",
       "      <td>90</td>\n",
       "      <td>42</td>\n",
       "      <td>43</td>\n",
       "      <td>20.879744</td>\n",
       "      <td>82.002744</td>\n",
       "      <td>6.502985</td>\n",
       "      <td>202.935536</td>\n",
       "      <td>rice</td>\n",
       "      <td>1</td>\n",
       "    </tr>\n",
       "    <tr>\n",
       "      <th>1</th>\n",
       "      <td>85</td>\n",
       "      <td>58</td>\n",
       "      <td>41</td>\n",
       "      <td>21.770462</td>\n",
       "      <td>80.319644</td>\n",
       "      <td>7.038096</td>\n",
       "      <td>226.655537</td>\n",
       "      <td>rice</td>\n",
       "      <td>1</td>\n",
       "    </tr>\n",
       "    <tr>\n",
       "      <th>2</th>\n",
       "      <td>60</td>\n",
       "      <td>55</td>\n",
       "      <td>44</td>\n",
       "      <td>23.004459</td>\n",
       "      <td>82.320763</td>\n",
       "      <td>7.840207</td>\n",
       "      <td>263.964248</td>\n",
       "      <td>rice</td>\n",
       "      <td>1</td>\n",
       "    </tr>\n",
       "    <tr>\n",
       "      <th>3</th>\n",
       "      <td>74</td>\n",
       "      <td>35</td>\n",
       "      <td>40</td>\n",
       "      <td>26.491096</td>\n",
       "      <td>80.158363</td>\n",
       "      <td>6.980401</td>\n",
       "      <td>242.864034</td>\n",
       "      <td>rice</td>\n",
       "      <td>1</td>\n",
       "    </tr>\n",
       "    <tr>\n",
       "      <th>4</th>\n",
       "      <td>78</td>\n",
       "      <td>42</td>\n",
       "      <td>42</td>\n",
       "      <td>20.130175</td>\n",
       "      <td>81.604873</td>\n",
       "      <td>7.628473</td>\n",
       "      <td>262.717340</td>\n",
       "      <td>rice</td>\n",
       "      <td>1</td>\n",
       "    </tr>\n",
       "  </tbody>\n",
       "</table>\n",
       "</div>"
      ],
      "text/plain": [
       "    N   P   K  temperature   humidity        ph    rainfall label  crop_num\n",
       "0  90  42  43    20.879744  82.002744  6.502985  202.935536  rice         1\n",
       "1  85  58  41    21.770462  80.319644  7.038096  226.655537  rice         1\n",
       "2  60  55  44    23.004459  82.320763  7.840207  263.964248  rice         1\n",
       "3  74  35  40    26.491096  80.158363  6.980401  242.864034  rice         1\n",
       "4  78  42  42    20.130175  81.604873  7.628473  262.717340  rice         1"
      ]
     },
     "execution_count": 15,
     "metadata": {},
     "output_type": "execute_result"
    }
   ],
   "source": [
    "crop.head()"
   ]
  },
  {
   "cell_type": "code",
   "execution_count": 16,
   "id": "9b595944",
   "metadata": {},
   "outputs": [
    {
     "data": {
      "text/plain": [
       "crop_num\n",
       "1     100\n",
       "2     100\n",
       "21    100\n",
       "20    100\n",
       "19    100\n",
       "18    100\n",
       "17    100\n",
       "16    100\n",
       "15    100\n",
       "14    100\n",
       "13    100\n",
       "12    100\n",
       "11    100\n",
       "10    100\n",
       "9     100\n",
       "8     100\n",
       "7     100\n",
       "6     100\n",
       "5     100\n",
       "4     100\n",
       "3     100\n",
       "22    100\n",
       "Name: count, dtype: int64"
      ]
     },
     "execution_count": 16,
     "metadata": {},
     "output_type": "execute_result"
    }
   ],
   "source": [
    "crop['crop_num'].value_counts()"
   ]
  },
  {
   "cell_type": "code",
   "execution_count": 17,
   "id": "e0d52a74",
   "metadata": {},
   "outputs": [
    {
     "data": {
      "text/plain": [
       "crop_num\n",
       "1     100\n",
       "2     100\n",
       "21    100\n",
       "20    100\n",
       "19    100\n",
       "18    100\n",
       "17    100\n",
       "16    100\n",
       "15    100\n",
       "14    100\n",
       "13    100\n",
       "12    100\n",
       "11    100\n",
       "10    100\n",
       "9     100\n",
       "8     100\n",
       "7     100\n",
       "6     100\n",
       "5     100\n",
       "4     100\n",
       "3     100\n",
       "22    100\n",
       "Name: count, dtype: int64"
      ]
     },
     "execution_count": 17,
     "metadata": {},
     "output_type": "execute_result"
    }
   ],
   "source": [
    "# crop['label'].value_counts()\n",
    "crop['crop_num'].value_counts()"
   ]
  },
  {
   "cell_type": "code",
   "execution_count": 18,
   "id": "315fad37",
   "metadata": {},
   "outputs": [
    {
     "data": {
      "text/html": [
       "<div>\n",
       "<style scoped>\n",
       "    .dataframe tbody tr th:only-of-type {\n",
       "        vertical-align: middle;\n",
       "    }\n",
       "\n",
       "    .dataframe tbody tr th {\n",
       "        vertical-align: top;\n",
       "    }\n",
       "\n",
       "    .dataframe thead th {\n",
       "        text-align: right;\n",
       "    }\n",
       "</style>\n",
       "<table border=\"1\" class=\"dataframe\">\n",
       "  <thead>\n",
       "    <tr style=\"text-align: right;\">\n",
       "      <th></th>\n",
       "      <th>N</th>\n",
       "      <th>P</th>\n",
       "      <th>K</th>\n",
       "      <th>temperature</th>\n",
       "      <th>humidity</th>\n",
       "      <th>ph</th>\n",
       "      <th>rainfall</th>\n",
       "      <th>label</th>\n",
       "      <th>crop_num</th>\n",
       "    </tr>\n",
       "  </thead>\n",
       "  <tbody>\n",
       "    <tr>\n",
       "      <th>0</th>\n",
       "      <td>90</td>\n",
       "      <td>42</td>\n",
       "      <td>43</td>\n",
       "      <td>20.879744</td>\n",
       "      <td>82.002744</td>\n",
       "      <td>6.502985</td>\n",
       "      <td>202.935536</td>\n",
       "      <td>rice</td>\n",
       "      <td>1</td>\n",
       "    </tr>\n",
       "    <tr>\n",
       "      <th>1</th>\n",
       "      <td>85</td>\n",
       "      <td>58</td>\n",
       "      <td>41</td>\n",
       "      <td>21.770462</td>\n",
       "      <td>80.319644</td>\n",
       "      <td>7.038096</td>\n",
       "      <td>226.655537</td>\n",
       "      <td>rice</td>\n",
       "      <td>1</td>\n",
       "    </tr>\n",
       "    <tr>\n",
       "      <th>2</th>\n",
       "      <td>60</td>\n",
       "      <td>55</td>\n",
       "      <td>44</td>\n",
       "      <td>23.004459</td>\n",
       "      <td>82.320763</td>\n",
       "      <td>7.840207</td>\n",
       "      <td>263.964248</td>\n",
       "      <td>rice</td>\n",
       "      <td>1</td>\n",
       "    </tr>\n",
       "    <tr>\n",
       "      <th>3</th>\n",
       "      <td>74</td>\n",
       "      <td>35</td>\n",
       "      <td>40</td>\n",
       "      <td>26.491096</td>\n",
       "      <td>80.158363</td>\n",
       "      <td>6.980401</td>\n",
       "      <td>242.864034</td>\n",
       "      <td>rice</td>\n",
       "      <td>1</td>\n",
       "    </tr>\n",
       "    <tr>\n",
       "      <th>4</th>\n",
       "      <td>78</td>\n",
       "      <td>42</td>\n",
       "      <td>42</td>\n",
       "      <td>20.130175</td>\n",
       "      <td>81.604873</td>\n",
       "      <td>7.628473</td>\n",
       "      <td>262.717340</td>\n",
       "      <td>rice</td>\n",
       "      <td>1</td>\n",
       "    </tr>\n",
       "  </tbody>\n",
       "</table>\n",
       "</div>"
      ],
      "text/plain": [
       "    N   P   K  temperature   humidity        ph    rainfall label  crop_num\n",
       "0  90  42  43    20.879744  82.002744  6.502985  202.935536  rice         1\n",
       "1  85  58  41    21.770462  80.319644  7.038096  226.655537  rice         1\n",
       "2  60  55  44    23.004459  82.320763  7.840207  263.964248  rice         1\n",
       "3  74  35  40    26.491096  80.158363  6.980401  242.864034  rice         1\n",
       "4  78  42  42    20.130175  81.604873  7.628473  262.717340  rice         1"
      ]
     },
     "execution_count": 18,
     "metadata": {},
     "output_type": "execute_result"
    }
   ],
   "source": [
    "crop.head()"
   ]
  },
  {
   "cell_type": "code",
   "execution_count": 19,
   "id": "38ab4bac",
   "metadata": {},
   "outputs": [],
   "source": [
    "# attribte crop_num rakhera aru sabai drop garne\n",
    "# inplace means forever\n",
    "crop.drop('label', axis = 1,  inplace=True)\n",
    "# crop.drop('crop_num2', axis = 1,  inplace=True)"
   ]
  },
  {
   "cell_type": "code",
   "execution_count": 20,
   "id": "2661992a",
   "metadata": {},
   "outputs": [
    {
     "data": {
      "text/html": [
       "<div>\n",
       "<style scoped>\n",
       "    .dataframe tbody tr th:only-of-type {\n",
       "        vertical-align: middle;\n",
       "    }\n",
       "\n",
       "    .dataframe tbody tr th {\n",
       "        vertical-align: top;\n",
       "    }\n",
       "\n",
       "    .dataframe thead th {\n",
       "        text-align: right;\n",
       "    }\n",
       "</style>\n",
       "<table border=\"1\" class=\"dataframe\">\n",
       "  <thead>\n",
       "    <tr style=\"text-align: right;\">\n",
       "      <th></th>\n",
       "      <th>N</th>\n",
       "      <th>P</th>\n",
       "      <th>K</th>\n",
       "      <th>temperature</th>\n",
       "      <th>humidity</th>\n",
       "      <th>ph</th>\n",
       "      <th>rainfall</th>\n",
       "      <th>crop_num</th>\n",
       "    </tr>\n",
       "  </thead>\n",
       "  <tbody>\n",
       "    <tr>\n",
       "      <th>0</th>\n",
       "      <td>90</td>\n",
       "      <td>42</td>\n",
       "      <td>43</td>\n",
       "      <td>20.879744</td>\n",
       "      <td>82.002744</td>\n",
       "      <td>6.502985</td>\n",
       "      <td>202.935536</td>\n",
       "      <td>1</td>\n",
       "    </tr>\n",
       "    <tr>\n",
       "      <th>1</th>\n",
       "      <td>85</td>\n",
       "      <td>58</td>\n",
       "      <td>41</td>\n",
       "      <td>21.770462</td>\n",
       "      <td>80.319644</td>\n",
       "      <td>7.038096</td>\n",
       "      <td>226.655537</td>\n",
       "      <td>1</td>\n",
       "    </tr>\n",
       "    <tr>\n",
       "      <th>2</th>\n",
       "      <td>60</td>\n",
       "      <td>55</td>\n",
       "      <td>44</td>\n",
       "      <td>23.004459</td>\n",
       "      <td>82.320763</td>\n",
       "      <td>7.840207</td>\n",
       "      <td>263.964248</td>\n",
       "      <td>1</td>\n",
       "    </tr>\n",
       "    <tr>\n",
       "      <th>3</th>\n",
       "      <td>74</td>\n",
       "      <td>35</td>\n",
       "      <td>40</td>\n",
       "      <td>26.491096</td>\n",
       "      <td>80.158363</td>\n",
       "      <td>6.980401</td>\n",
       "      <td>242.864034</td>\n",
       "      <td>1</td>\n",
       "    </tr>\n",
       "    <tr>\n",
       "      <th>4</th>\n",
       "      <td>78</td>\n",
       "      <td>42</td>\n",
       "      <td>42</td>\n",
       "      <td>20.130175</td>\n",
       "      <td>81.604873</td>\n",
       "      <td>7.628473</td>\n",
       "      <td>262.717340</td>\n",
       "      <td>1</td>\n",
       "    </tr>\n",
       "  </tbody>\n",
       "</table>\n",
       "</div>"
      ],
      "text/plain": [
       "    N   P   K  temperature   humidity        ph    rainfall  crop_num\n",
       "0  90  42  43    20.879744  82.002744  6.502985  202.935536         1\n",
       "1  85  58  41    21.770462  80.319644  7.038096  226.655537         1\n",
       "2  60  55  44    23.004459  82.320763  7.840207  263.964248         1\n",
       "3  74  35  40    26.491096  80.158363  6.980401  242.864034         1\n",
       "4  78  42  42    20.130175  81.604873  7.628473  262.717340         1"
      ]
     },
     "execution_count": 20,
     "metadata": {},
     "output_type": "execute_result"
    }
   ],
   "source": [
    "crop.head()"
   ]
  },
  {
   "cell_type": "code",
   "execution_count": 21,
   "id": "3e9fab50",
   "metadata": {},
   "outputs": [
    {
     "data": {
      "text/plain": [
       "crop_num\n",
       "1     100\n",
       "2     100\n",
       "21    100\n",
       "20    100\n",
       "19    100\n",
       "18    100\n",
       "17    100\n",
       "16    100\n",
       "15    100\n",
       "14    100\n",
       "13    100\n",
       "12    100\n",
       "11    100\n",
       "10    100\n",
       "9     100\n",
       "8     100\n",
       "7     100\n",
       "6     100\n",
       "5     100\n",
       "4     100\n",
       "3     100\n",
       "22    100\n",
       "Name: count, dtype: int64"
      ]
     },
     "execution_count": 21,
     "metadata": {},
     "output_type": "execute_result"
    }
   ],
   "source": [
    "crop['crop_num'].value_counts()"
   ]
  },
  {
   "cell_type": "code",
   "execution_count": 22,
   "id": "5b16b414",
   "metadata": {},
   "outputs": [],
   "source": [
    "# Assign x=input features (n,p,k...........)\n",
    "# Assign y=output features (crop_num)\n",
    "X = crop.drop(\"crop_num\", axis = 1)\n",
    "y = crop['crop_num']"
   ]
  },
  {
   "cell_type": "code",
   "execution_count": 23,
   "id": "25c00ef6",
   "metadata": {},
   "outputs": [
    {
     "name": "stdout",
     "output_type": "stream",
     "text": [
      "(2200, 7)\n",
      "(2200,)\n"
     ]
    }
   ],
   "source": [
    "print(X.shape)\n",
    "print(y.shape)"
   ]
  },
  {
   "cell_type": "code",
   "execution_count": 24,
   "id": "398bbe4e",
   "metadata": {},
   "outputs": [
    {
     "data": {
      "text/plain": [
       "(2200,)"
      ]
     },
     "execution_count": 24,
     "metadata": {},
     "output_type": "execute_result"
    }
   ],
   "source": [
    "y.shape"
   ]
  },
  {
   "cell_type": "code",
   "execution_count": 25,
   "id": "645a4a66",
   "metadata": {},
   "outputs": [],
   "source": [
    "from sklearn.model_selection import train_test_split\n",
    "X_train, X_test, y_train, y_test = train_test_split(X, y, test_size=0.20, random_state=42, shuffle=True)\n",
    "# 20% data for test size\n",
    "# 80% data for train size"
   ]
  },
  {
   "cell_type": "code",
   "execution_count": 26,
   "id": "d48d8812",
   "metadata": {},
   "outputs": [
    {
     "data": {
      "text/plain": [
       "1451     9\n",
       "1334    10\n",
       "1761     6\n",
       "1735     6\n",
       "1576     8\n",
       "        ..\n",
       "59       1\n",
       "71       1\n",
       "1908     4\n",
       "1958     4\n",
       "482     19\n",
       "Name: crop_num, Length: 440, dtype: int64"
      ]
     },
     "execution_count": 26,
     "metadata": {},
     "output_type": "execute_result"
    }
   ],
   "source": [
    "y_test"
   ]
  },
  {
   "cell_type": "code",
   "execution_count": 27,
   "id": "1b95f4f7",
   "metadata": {},
   "outputs": [
    {
     "data": {
      "text/plain": [
       "1656     7\n",
       "752     16\n",
       "892     15\n",
       "1041    13\n",
       "1179    12\n",
       "        ..\n",
       "1638     7\n",
       "1095    13\n",
       "1130    12\n",
       "1294    11\n",
       "860     15\n",
       "Name: crop_num, Length: 1760, dtype: int64"
      ]
     },
     "execution_count": 27,
     "metadata": {},
     "output_type": "execute_result"
    }
   ],
   "source": [
    "y_train"
   ]
  },
  {
   "cell_type": "code",
   "execution_count": 28,
   "id": "65b6d88f",
   "metadata": {},
   "outputs": [
    {
     "data": {
      "text/plain": [
       "(1760, 7)"
      ]
     },
     "execution_count": 28,
     "metadata": {},
     "output_type": "execute_result"
    }
   ],
   "source": [
    "X_train.shape # train set get 1760 data and test remaining data"
   ]
  },
  {
   "cell_type": "code",
   "execution_count": 29,
   "id": "c4ba88c1",
   "metadata": {},
   "outputs": [
    {
     "data": {
      "text/plain": [
       "(440, 7)"
      ]
     },
     "execution_count": 29,
     "metadata": {},
     "output_type": "execute_result"
    }
   ],
   "source": [
    "X_test.shape"
   ]
  },
  {
   "cell_type": "code",
   "execution_count": 30,
   "id": "bd87f7cd",
   "metadata": {},
   "outputs": [
    {
     "data": {
      "text/plain": [
       "2200"
      ]
     },
     "execution_count": 30,
     "metadata": {},
     "output_type": "execute_result"
    }
   ],
   "source": [
    "1760+440"
   ]
  },
  {
   "cell_type": "code",
   "execution_count": 31,
   "id": "623df13c",
   "metadata": {},
   "outputs": [
    {
     "data": {
      "text/html": [
       "<div>\n",
       "<style scoped>\n",
       "    .dataframe tbody tr th:only-of-type {\n",
       "        vertical-align: middle;\n",
       "    }\n",
       "\n",
       "    .dataframe tbody tr th {\n",
       "        vertical-align: top;\n",
       "    }\n",
       "\n",
       "    .dataframe thead th {\n",
       "        text-align: right;\n",
       "    }\n",
       "</style>\n",
       "<table border=\"1\" class=\"dataframe\">\n",
       "  <thead>\n",
       "    <tr style=\"text-align: right;\">\n",
       "      <th></th>\n",
       "      <th>N</th>\n",
       "      <th>P</th>\n",
       "      <th>K</th>\n",
       "      <th>temperature</th>\n",
       "      <th>humidity</th>\n",
       "      <th>ph</th>\n",
       "      <th>rainfall</th>\n",
       "    </tr>\n",
       "  </thead>\n",
       "  <tbody>\n",
       "    <tr>\n",
       "      <th>1656</th>\n",
       "      <td>17</td>\n",
       "      <td>16</td>\n",
       "      <td>14</td>\n",
       "      <td>16.396243</td>\n",
       "      <td>92.181519</td>\n",
       "      <td>6.625539</td>\n",
       "      <td>102.944161</td>\n",
       "    </tr>\n",
       "    <tr>\n",
       "      <th>752</th>\n",
       "      <td>37</td>\n",
       "      <td>79</td>\n",
       "      <td>19</td>\n",
       "      <td>27.543848</td>\n",
       "      <td>69.347863</td>\n",
       "      <td>7.143943</td>\n",
       "      <td>69.408782</td>\n",
       "    </tr>\n",
       "    <tr>\n",
       "      <th>892</th>\n",
       "      <td>7</td>\n",
       "      <td>73</td>\n",
       "      <td>25</td>\n",
       "      <td>27.521856</td>\n",
       "      <td>63.132153</td>\n",
       "      <td>7.288057</td>\n",
       "      <td>45.208411</td>\n",
       "    </tr>\n",
       "    <tr>\n",
       "      <th>1041</th>\n",
       "      <td>101</td>\n",
       "      <td>70</td>\n",
       "      <td>48</td>\n",
       "      <td>25.360592</td>\n",
       "      <td>75.031933</td>\n",
       "      <td>6.012697</td>\n",
       "      <td>116.553145</td>\n",
       "    </tr>\n",
       "    <tr>\n",
       "      <th>1179</th>\n",
       "      <td>0</td>\n",
       "      <td>17</td>\n",
       "      <td>30</td>\n",
       "      <td>35.474783</td>\n",
       "      <td>47.972305</td>\n",
       "      <td>6.279134</td>\n",
       "      <td>97.790725</td>\n",
       "    </tr>\n",
       "    <tr>\n",
       "      <th>...</th>\n",
       "      <td>...</td>\n",
       "      <td>...</td>\n",
       "      <td>...</td>\n",
       "      <td>...</td>\n",
       "      <td>...</td>\n",
       "      <td>...</td>\n",
       "      <td>...</td>\n",
       "    </tr>\n",
       "    <tr>\n",
       "      <th>1638</th>\n",
       "      <td>10</td>\n",
       "      <td>5</td>\n",
       "      <td>5</td>\n",
       "      <td>21.213070</td>\n",
       "      <td>91.353492</td>\n",
       "      <td>7.817846</td>\n",
       "      <td>112.983436</td>\n",
       "    </tr>\n",
       "    <tr>\n",
       "      <th>1095</th>\n",
       "      <td>108</td>\n",
       "      <td>94</td>\n",
       "      <td>47</td>\n",
       "      <td>27.359116</td>\n",
       "      <td>84.546250</td>\n",
       "      <td>6.387431</td>\n",
       "      <td>90.812505</td>\n",
       "    </tr>\n",
       "    <tr>\n",
       "      <th>1130</th>\n",
       "      <td>11</td>\n",
       "      <td>36</td>\n",
       "      <td>31</td>\n",
       "      <td>27.920633</td>\n",
       "      <td>51.779659</td>\n",
       "      <td>6.475449</td>\n",
       "      <td>100.258567</td>\n",
       "    </tr>\n",
       "    <tr>\n",
       "      <th>1294</th>\n",
       "      <td>11</td>\n",
       "      <td>124</td>\n",
       "      <td>204</td>\n",
       "      <td>13.429886</td>\n",
       "      <td>80.066340</td>\n",
       "      <td>6.361141</td>\n",
       "      <td>71.400430</td>\n",
       "    </tr>\n",
       "    <tr>\n",
       "      <th>860</th>\n",
       "      <td>32</td>\n",
       "      <td>78</td>\n",
       "      <td>22</td>\n",
       "      <td>23.970814</td>\n",
       "      <td>62.355576</td>\n",
       "      <td>7.007038</td>\n",
       "      <td>53.409060</td>\n",
       "    </tr>\n",
       "  </tbody>\n",
       "</table>\n",
       "<p>1760 rows × 7 columns</p>\n",
       "</div>"
      ],
      "text/plain": [
       "        N    P    K  temperature   humidity        ph    rainfall\n",
       "1656   17   16   14    16.396243  92.181519  6.625539  102.944161\n",
       "752    37   79   19    27.543848  69.347863  7.143943   69.408782\n",
       "892     7   73   25    27.521856  63.132153  7.288057   45.208411\n",
       "1041  101   70   48    25.360592  75.031933  6.012697  116.553145\n",
       "1179    0   17   30    35.474783  47.972305  6.279134   97.790725\n",
       "...   ...  ...  ...          ...        ...       ...         ...\n",
       "1638   10    5    5    21.213070  91.353492  7.817846  112.983436\n",
       "1095  108   94   47    27.359116  84.546250  6.387431   90.812505\n",
       "1130   11   36   31    27.920633  51.779659  6.475449  100.258567\n",
       "1294   11  124  204    13.429886  80.066340  6.361141   71.400430\n",
       "860    32   78   22    23.970814  62.355576  7.007038   53.409060\n",
       "\n",
       "[1760 rows x 7 columns]"
      ]
     },
     "execution_count": 31,
     "metadata": {},
     "output_type": "execute_result"
    }
   ],
   "source": [
    "# INPUTS: X_train and X_test\n",
    "#1760 rows\n",
    "X_train "
   ]
  },
  {
   "cell_type": "code",
   "execution_count": 32,
   "id": "068749e4",
   "metadata": {
    "scrolled": false
   },
   "outputs": [
    {
     "data": {
      "text/html": [
       "<div>\n",
       "<style scoped>\n",
       "    .dataframe tbody tr th:only-of-type {\n",
       "        vertical-align: middle;\n",
       "    }\n",
       "\n",
       "    .dataframe tbody tr th {\n",
       "        vertical-align: top;\n",
       "    }\n",
       "\n",
       "    .dataframe thead th {\n",
       "        text-align: right;\n",
       "    }\n",
       "</style>\n",
       "<table border=\"1\" class=\"dataframe\">\n",
       "  <thead>\n",
       "    <tr style=\"text-align: right;\">\n",
       "      <th></th>\n",
       "      <th>N</th>\n",
       "      <th>P</th>\n",
       "      <th>K</th>\n",
       "      <th>temperature</th>\n",
       "      <th>humidity</th>\n",
       "      <th>ph</th>\n",
       "      <th>rainfall</th>\n",
       "    </tr>\n",
       "  </thead>\n",
       "  <tbody>\n",
       "    <tr>\n",
       "      <th>1451</th>\n",
       "      <td>101</td>\n",
       "      <td>17</td>\n",
       "      <td>47</td>\n",
       "      <td>29.494014</td>\n",
       "      <td>94.729813</td>\n",
       "      <td>6.185053</td>\n",
       "      <td>26.308209</td>\n",
       "    </tr>\n",
       "    <tr>\n",
       "      <th>1334</th>\n",
       "      <td>98</td>\n",
       "      <td>8</td>\n",
       "      <td>51</td>\n",
       "      <td>26.179346</td>\n",
       "      <td>86.522581</td>\n",
       "      <td>6.259336</td>\n",
       "      <td>49.430510</td>\n",
       "    </tr>\n",
       "    <tr>\n",
       "      <th>1761</th>\n",
       "      <td>59</td>\n",
       "      <td>62</td>\n",
       "      <td>49</td>\n",
       "      <td>43.360515</td>\n",
       "      <td>93.351916</td>\n",
       "      <td>6.941497</td>\n",
       "      <td>114.778071</td>\n",
       "    </tr>\n",
       "    <tr>\n",
       "      <th>1735</th>\n",
       "      <td>44</td>\n",
       "      <td>60</td>\n",
       "      <td>55</td>\n",
       "      <td>34.280461</td>\n",
       "      <td>90.555616</td>\n",
       "      <td>6.825371</td>\n",
       "      <td>98.540477</td>\n",
       "    </tr>\n",
       "    <tr>\n",
       "      <th>1576</th>\n",
       "      <td>30</td>\n",
       "      <td>137</td>\n",
       "      <td>200</td>\n",
       "      <td>22.914300</td>\n",
       "      <td>90.704756</td>\n",
       "      <td>5.603413</td>\n",
       "      <td>118.604465</td>\n",
       "    </tr>\n",
       "    <tr>\n",
       "      <th>...</th>\n",
       "      <td>...</td>\n",
       "      <td>...</td>\n",
       "      <td>...</td>\n",
       "      <td>...</td>\n",
       "      <td>...</td>\n",
       "      <td>...</td>\n",
       "      <td>...</td>\n",
       "    </tr>\n",
       "    <tr>\n",
       "      <th>59</th>\n",
       "      <td>99</td>\n",
       "      <td>55</td>\n",
       "      <td>35</td>\n",
       "      <td>21.723831</td>\n",
       "      <td>80.238990</td>\n",
       "      <td>6.501698</td>\n",
       "      <td>277.962619</td>\n",
       "    </tr>\n",
       "    <tr>\n",
       "      <th>71</th>\n",
       "      <td>67</td>\n",
       "      <td>45</td>\n",
       "      <td>38</td>\n",
       "      <td>22.727910</td>\n",
       "      <td>82.170688</td>\n",
       "      <td>7.300411</td>\n",
       "      <td>260.887506</td>\n",
       "    </tr>\n",
       "    <tr>\n",
       "      <th>1908</th>\n",
       "      <td>121</td>\n",
       "      <td>47</td>\n",
       "      <td>16</td>\n",
       "      <td>23.605640</td>\n",
       "      <td>79.295731</td>\n",
       "      <td>7.723240</td>\n",
       "      <td>72.498009</td>\n",
       "    </tr>\n",
       "    <tr>\n",
       "      <th>1958</th>\n",
       "      <td>116</td>\n",
       "      <td>52</td>\n",
       "      <td>19</td>\n",
       "      <td>22.942767</td>\n",
       "      <td>75.371706</td>\n",
       "      <td>6.114526</td>\n",
       "      <td>67.080226</td>\n",
       "    </tr>\n",
       "    <tr>\n",
       "      <th>482</th>\n",
       "      <td>5</td>\n",
       "      <td>68</td>\n",
       "      <td>20</td>\n",
       "      <td>19.043805</td>\n",
       "      <td>33.106951</td>\n",
       "      <td>6.121667</td>\n",
       "      <td>155.370562</td>\n",
       "    </tr>\n",
       "  </tbody>\n",
       "</table>\n",
       "<p>440 rows × 7 columns</p>\n",
       "</div>"
      ],
      "text/plain": [
       "        N    P    K  temperature   humidity        ph    rainfall\n",
       "1451  101   17   47    29.494014  94.729813  6.185053   26.308209\n",
       "1334   98    8   51    26.179346  86.522581  6.259336   49.430510\n",
       "1761   59   62   49    43.360515  93.351916  6.941497  114.778071\n",
       "1735   44   60   55    34.280461  90.555616  6.825371   98.540477\n",
       "1576   30  137  200    22.914300  90.704756  5.603413  118.604465\n",
       "...   ...  ...  ...          ...        ...       ...         ...\n",
       "59     99   55   35    21.723831  80.238990  6.501698  277.962619\n",
       "71     67   45   38    22.727910  82.170688  7.300411  260.887506\n",
       "1908  121   47   16    23.605640  79.295731  7.723240   72.498009\n",
       "1958  116   52   19    22.942767  75.371706  6.114526   67.080226\n",
       "482     5   68   20    19.043805  33.106951  6.121667  155.370562\n",
       "\n",
       "[440 rows x 7 columns]"
      ]
     },
     "execution_count": 32,
     "metadata": {},
     "output_type": "execute_result"
    }
   ],
   "source": [
    "# INPUTS: X_train and X_test\n",
    "#440 rows\n",
    "X_test "
   ]
  },
  {
   "cell_type": "code",
   "execution_count": 33,
   "id": "e13e6189",
   "metadata": {},
   "outputs": [],
   "source": [
    "# minmax scalar and standarisation for algorithm to implement better\n",
    "from sklearn.preprocessing import MinMaxScaler\n",
    "ms = MinMaxScaler()\n",
    "#TRAINING\n",
    "# fitting 80% training data in minmaxscaler\n",
    "ms.fit(X_train)\n",
    "X_train = ms.transform(X_train)\n",
    "X_test = ms.transform(X_test)"
   ]
  },
  {
   "cell_type": "code",
   "execution_count": 34,
   "id": "cb2d7002",
   "metadata": {},
   "outputs": [
    {
     "data": {
      "text/plain": [
       "array([[0.12142857, 0.07857143, 0.045     , ..., 0.9089898 , 0.48532225,\n",
       "        0.29685161],\n",
       "       [0.26428571, 0.52857143, 0.07      , ..., 0.64257946, 0.56594073,\n",
       "        0.17630752],\n",
       "       [0.05      , 0.48571429, 0.1       , ..., 0.57005802, 0.58835229,\n",
       "        0.08931844],\n",
       "       ...,\n",
       "       [0.07857143, 0.22142857, 0.13      , ..., 0.43760347, 0.46198144,\n",
       "        0.28719815],\n",
       "       [0.07857143, 0.85      , 0.995     , ..., 0.76763665, 0.44420505,\n",
       "        0.18346657],\n",
       "       [0.22857143, 0.52142857, 0.085     , ..., 0.56099735, 0.54465022,\n",
       "        0.11879596]])"
      ]
     },
     "execution_count": 34,
     "metadata": {},
     "output_type": "execute_result"
    }
   ],
   "source": [
    "X_train\n",
    "#SUMMARY\n",
    "# here we have summarised all data in the minmax range of (0, 1)"
   ]
  },
  {
   "cell_type": "code",
   "execution_count": 35,
   "id": "e8c665e5",
   "metadata": {},
   "outputs": [
    {
     "data": {
      "text/plain": [
       "array([[0.72142857, 0.08571429, 0.21      , ..., 0.93872187, 0.41682113,\n",
       "        0.021381  ],\n",
       "       [0.7       , 0.02142857, 0.23      , ..., 0.84296447, 0.42837304,\n",
       "        0.10449492],\n",
       "       [0.42142857, 0.40714286, 0.22      , ..., 0.92264534, 0.5344578 ,\n",
       "        0.33938901],\n",
       "       ...,\n",
       "       [0.86428571, 0.3       , 0.055     , ..., 0.75864563, 0.6560289 ,\n",
       "        0.18741185],\n",
       "       [0.82857143, 0.33571429, 0.07      , ..., 0.71286229, 0.40585322,\n",
       "        0.16793744],\n",
       "       [0.03571429, 0.45      , 0.075     , ..., 0.21974075, 0.40696371,\n",
       "        0.48530014]])"
      ]
     },
     "execution_count": 35,
     "metadata": {},
     "output_type": "execute_result"
    }
   ],
   "source": [
    "X_test"
   ]
  },
  {
   "cell_type": "code",
   "execution_count": 36,
   "id": "88171ffd",
   "metadata": {},
   "outputs": [],
   "source": [
    "#STANDARISATION\n",
    "from sklearn.preprocessing import StandardScaler\n",
    "sc = MinMaxScaler()\n",
    "sc.fit(X_train)\n",
    "X_train = sc.transform(X_train)\n",
    "X_test = sc.transform(X_test)"
   ]
  },
  {
   "cell_type": "code",
   "execution_count": 37,
   "id": "b75404f6",
   "metadata": {},
   "outputs": [
    {
     "data": {
      "text/plain": [
       "array([[0.12142857, 0.07857143, 0.045     , ..., 0.9089898 , 0.48532225,\n",
       "        0.29685161],\n",
       "       [0.26428571, 0.52857143, 0.07      , ..., 0.64257946, 0.56594073,\n",
       "        0.17630752],\n",
       "       [0.05      , 0.48571429, 0.1       , ..., 0.57005802, 0.58835229,\n",
       "        0.08931844],\n",
       "       ...,\n",
       "       [0.07857143, 0.22142857, 0.13      , ..., 0.43760347, 0.46198144,\n",
       "        0.28719815],\n",
       "       [0.07857143, 0.85      , 0.995     , ..., 0.76763665, 0.44420505,\n",
       "        0.18346657],\n",
       "       [0.22857143, 0.52142857, 0.085     , ..., 0.56099735, 0.54465022,\n",
       "        0.11879596]])"
      ]
     },
     "execution_count": 37,
     "metadata": {},
     "output_type": "execute_result"
    }
   ],
   "source": [
    "X_train"
   ]
  },
  {
   "cell_type": "code",
   "execution_count": null,
   "id": "95ba91dc",
   "metadata": {},
   "outputs": [
    {
     "name": "stdout",
     "output_type": "stream",
     "text": [
      "Naive Bayes            Classification => accuracy rate is: 0.9954545454545455\n",
      "K-Nearest Neighbors    Classification => accuracy rate is: 0.9704545454545455\n",
      "Decision Tree          Classification => accuracy rate is: 0.9840909090909091\n",
      "Random Forest          Classification => accuracy rate is: 0.9931818181818182\n"
     ]
    }
   ],
   "source": [
    "import numpy as np\n",
    "from collections import Counter\n",
    "from typing import List, Tuple, Union, Dict\n",
    "import random\n",
    "# MODEL TRAINING\n",
    "class KNN:\n",
    "    def __init__(self, k: int = 3):\n",
    "        \"\"\"K-Nearest Neighbors classifier.\n",
    "        \n",
    "        Args:\n",
    "            k (int): Number of neighbors to consider\n",
    "        \"\"\"\n",
    "        self.k = k\n",
    "        self.X_train = None\n",
    "        self.y_train = None\n",
    "    \n",
    "    def fit(self, X: np.ndarray, y: np.ndarray) -> None:\n",
    "        \"\"\"Store training data.\n",
    "        \n",
    "        Args:\n",
    "            X: Training features\n",
    "            y: Training labels\n",
    "        \"\"\"\n",
    "        self.X_train = X\n",
    "        self.y_train = y\n",
    "    \n",
    "    def _euclidean_distance(self, x1: np.ndarray, x2: np.ndarray) -> float:\n",
    "        \"\"\"Calculate Euclidean distance between two points.\"\"\"\n",
    "        return np.sqrt(np.sum((x1 - x2) ** 2))\n",
    "    \n",
    "    def predict(self, X: np.ndarray) -> np.ndarray:\n",
    "        \"\"\"Predict class labels for samples in X.\n",
    "        \n",
    "        Args:\n",
    "            X: Samples to predict\n",
    "            \n",
    "        Returns:\n",
    "            Predicted class labels\n",
    "        \"\"\"\n",
    "        predictions = []\n",
    "        \n",
    "        for x in X:\n",
    "            # Calculate distances to all training samples\n",
    "            distances = [self._euclidean_distance(x, x_train) for x_train in self.X_train]\n",
    "            \n",
    "            # Get indices of k nearest neighbors\n",
    "            k_indices = np.argsort(distances)[:self.k]\n",
    "            \n",
    "            # Get labels of k nearest neighbors\n",
    "            k_nearest_labels = [self.y_train[i] for i in k_indices]\n",
    "            \n",
    "            # Majority vote\n",
    "            most_common = Counter(k_nearest_labels).most_common(1)\n",
    "            predictions.append(most_common[0][0])\n",
    "            \n",
    "        return np.array(predictions)\n",
    "\n",
    "class DecisionTree:\n",
    "    class Node:\n",
    "        def __init__(self, feature=None, threshold=None, left=None, right=None, value=None):\n",
    "            self.feature = feature\n",
    "            self.threshold = threshold\n",
    "            self.left = left\n",
    "            self.right = right\n",
    "            self.value = value\n",
    "    \n",
    "    def __init__(self, max_depth: int = None):\n",
    "        \"\"\"Decision Tree classifier.\n",
    "        \n",
    "        Args:\n",
    "            max_depth: Maximum depth of the tree\n",
    "        \"\"\"\n",
    "        self.max_depth = max_depth\n",
    "        self.root = None\n",
    "        \n",
    "    def _entropy(self, y: np.ndarray) -> float:\n",
    "        \"\"\"Calculate entropy of an array of labels.\"\"\"\n",
    "        hist = np.bincount(y)\n",
    "        ps = hist / len(y)\n",
    "        return -np.sum([p * np.log2(p) for p in ps if p > 0])\n",
    "    \n",
    "    def _information_gain(self, y: np.ndarray, X_column: np.ndarray, threshold: float) -> float:\n",
    "        \"\"\"Calculate information gain for a split.\"\"\"\n",
    "        parent_entropy = self._entropy(y)\n",
    "        \n",
    "        left_mask = X_column < threshold\n",
    "        right_mask = ~left_mask\n",
    "        \n",
    "        if np.sum(left_mask) == 0 or np.sum(right_mask) == 0:\n",
    "            return 0\n",
    "        \n",
    "        n = len(y)\n",
    "        n_l, n_r = np.sum(left_mask), np.sum(right_mask)\n",
    "        e_l, e_r = self._entropy(y[left_mask]), self._entropy(y[right_mask])\n",
    "        child_entropy = (n_l * e_l + n_r * e_r) / n\n",
    "        \n",
    "        return parent_entropy - child_entropy\n",
    "    \n",
    "    def _best_split(self, X: np.ndarray, y: np.ndarray) -> Tuple[int, float]:\n",
    "        \"\"\"Find the best split.\"\"\"\n",
    "        best_gain = -1\n",
    "        best_feature = None\n",
    "        best_threshold = None\n",
    "        \n",
    "        n_features = X.shape[1]\n",
    "        \n",
    "        for feature in range(n_features):\n",
    "            thresholds = np.unique(X[:, feature])\n",
    "            for threshold in thresholds:\n",
    "                gain = self._information_gain(y, X[:, feature], threshold)\n",
    "                \n",
    "                if gain > best_gain:\n",
    "                    best_gain = gain\n",
    "                    best_feature = feature\n",
    "                    best_threshold = threshold\n",
    "                    \n",
    "        return best_feature, best_threshold\n",
    "    \n",
    "    def _build_tree(self, X: np.ndarray, y: np.ndarray, depth: int = 0) -> Node:\n",
    "        \"\"\"Recursively build the decision tree.\"\"\"\n",
    "        n_samples, n_features = X.shape\n",
    "        n_classes = len(np.unique(y))\n",
    "        \n",
    "        # Stopping criteria\n",
    "        if (self.max_depth is not None and depth >= self.max_depth) or n_classes == 1:\n",
    "            leaf_value = np.argmax(np.bincount(y))\n",
    "            return self.Node(value=leaf_value)\n",
    "        \n",
    "        # Find best split\n",
    "        best_feature, best_threshold = self._best_split(X, y)\n",
    "        \n",
    "        if best_feature is None:\n",
    "            leaf_value = np.argmax(np.bincount(y))\n",
    "            return self.Node(value=leaf_value)\n",
    "        \n",
    "        # Create child nodes\n",
    "        left_mask = X[:, best_feature] < best_threshold\n",
    "        right_mask = ~left_mask\n",
    "        \n",
    "        left = self._build_tree(X[left_mask], y[left_mask], depth + 1)\n",
    "        right = self._build_tree(X[right_mask], y[right_mask], depth + 1)\n",
    "        \n",
    "        return self.Node(best_feature, best_threshold, left, right)\n",
    "    \n",
    "    def fit(self, X: np.ndarray, y: np.ndarray) -> None:\n",
    "        \"\"\"Build decision tree.\"\"\"\n",
    "        self.root = self._build_tree(X, y)\n",
    "    \n",
    "    def _traverse_tree(self, x: np.ndarray, node: Node) -> int:\n",
    "        \"\"\"Traverse tree to make prediction.\"\"\"\n",
    "        if node.value is not None:\n",
    "            return node.value\n",
    "        \n",
    "        if x[node.feature] < node.threshold:\n",
    "            return self._traverse_tree(x, node.left)\n",
    "        return self._traverse_tree(x, node.right)\n",
    "    \n",
    "    def predict(self, X: np.ndarray) -> np.ndarray:\n",
    "        \"\"\"Predict class labels.\"\"\"\n",
    "        return np.array([self._traverse_tree(x, self.root) for x in X])\n",
    "    \n",
    "\n",
    "class NaiveBayes:\n",
    "    def __init__(self):\n",
    "        \"\"\"Naive Bayes classifier.\"\"\"\n",
    "        self.classes = None\n",
    "        self.parameters = {}\n",
    "        \n",
    "    def _calculate_class_parameters(self, X: np.ndarray) -> Tuple[float, float]:\n",
    "        \"\"\"Calculate mean and variance of features.\"\"\"\n",
    "        mean = np.mean(X, axis=0)\n",
    "        var = np.var(X, axis=0)\n",
    "        return mean, var\n",
    "    \n",
    "    def fit(self, X: np.ndarray, y: np.ndarray) -> None:\n",
    "        \"\"\"Train Naive Bayes classifier.\"\"\"\n",
    "        self.classes = np.unique(y)\n",
    "        n_features = X.shape[1]\n",
    "        \n",
    "        # Calculate parameters for each class\n",
    "        for c in self.classes:\n",
    "            X_c = X[y == c]\n",
    "            self.parameters[c] = {\n",
    "                'mean': np.zeros(n_features),\n",
    "                'var': np.zeros(n_features),\n",
    "                'prior': len(X_c) / len(X)\n",
    "            }\n",
    "            \n",
    "            mean, var = self._calculate_class_parameters(X_c)\n",
    "            self.parameters[c]['mean'] = mean\n",
    "            self.parameters[c]['var'] = var\n",
    "    \n",
    "    def _calculate_likelihood(self, X: np.ndarray, mean: float, var: float) -> float:\n",
    "        \"\"\"Calculate likelihood using Gaussian distribution.\"\"\"\n",
    "        eps = 1e-4  # to avoid division by zero\n",
    "        coeff = 1.0 / np.sqrt(2.0 * np.pi * var + eps)\n",
    "        exponent = np.exp(-(X - mean)**2 / (2 * var + eps))\n",
    "        return coeff * exponent\n",
    "    \n",
    "    def _calculate_posterior(self, x: np.ndarray, c: int) -> float:\n",
    "        \"\"\"Calculate posterior probability.\"\"\"\n",
    "        prior = np.log(self.parameters[c]['prior'])\n",
    "        likelihood = np.sum(np.log(self._calculate_likelihood(x, \n",
    "                                                            self.parameters[c]['mean'],\n",
    "                                                            self.parameters[c]['var'])))\n",
    "        return prior + likelihood\n",
    "    \n",
    "    def predict(self, X: np.ndarray) -> np.ndarray:\n",
    "        \"\"\"Predict class labels.\"\"\"\n",
    "        y_pred = []\n",
    "        \n",
    "        for x in X:\n",
    "            posteriors = []\n",
    "            for c in self.classes:\n",
    "                posterior = self._calculate_posterior(x, c)\n",
    "                posteriors.append(posterior)\n",
    "            y_pred.append(self.classes[np.argmax(posteriors)])\n",
    "            \n",
    "        return np.array(y_pred)\n",
    "\n",
    "\n",
    "class RandomForest:\n",
    "    def __init__(self, n_trees: int = 10, max_depth: int = None):\n",
    "        \"\"\"Random Forest classifier.\n",
    "        \n",
    "        Args:\n",
    "            n_trees: Number of trees in the forest\n",
    "            max_depth: Maximum depth of each tree\n",
    "        \"\"\"\n",
    "        self.n_trees = n_trees\n",
    "        self.max_depth = max_depth\n",
    "        self.trees = []\n",
    "        \n",
    "    def _bootstrap_sample(self, X: np.ndarray, y: np.ndarray) -> Tuple[np.ndarray, np.ndarray]:\n",
    "        \"\"\"Create a bootstrap sample.\"\"\"\n",
    "        n_samples = X.shape[0]\n",
    "        idxs = np.random.choice(n_samples, size=n_samples, replace=True)\n",
    "        return X[idxs], y[idxs]\n",
    "    \n",
    "    def fit(self, X: np.ndarray, y: np.ndarray) -> None:\n",
    "        \"\"\"Build a forest of trees.\"\"\"\n",
    "        self.trees = []\n",
    "        \n",
    "        for _ in range(self.n_trees):\n",
    "            tree = DecisionTree(max_depth=self.max_depth)\n",
    "            X_sample, y_sample = self._bootstrap_sample(X, y)\n",
    "            tree.fit(X_sample, y_sample)\n",
    "            self.trees.append(tree)\n",
    "    \n",
    "    def predict(self, X: np.ndarray) -> np.ndarray:\n",
    "        \"\"\"Predict class labels by majority voting.\"\"\"\n",
    "        predictions = np.array([tree.predict(X) for tree in self.trees])\n",
    "        return np.array([Counter(predictions[:, i]).most_common(1)[0][0] \n",
    "                        for i in range(len(X))])\n",
    "\n",
    "from sklearn.metrics import accuracy_score\n",
    "\n",
    "\n",
    "# sabai model ko lai instance create gareko.\n",
    "# SYNTAX:\n",
    "# 'key': value\n",
    "models = {\n",
    "    'Naive Bayes            Classification': NaiveBayes(),\n",
    "    'K-Nearest Neighbors    Classification': KNN(),\n",
    "    'Decision Tree          Classification': DecisionTree(),\n",
    "    'Random Forest          Classification': RandomForest(),\n",
    "}\n",
    "\n",
    "for name, md in models.items():\n",
    "    md.fit(X_train, y_train)\n",
    "    ypred = md.predict(X_test)\n",
    "    print(f\"{name} => accuracy rate is: {accuracy_score(y_test, ypred)}\")\n",
    "    "
   ]
  },
  {
   "cell_type": "code",
   "execution_count": 39,
   "id": "b9a0f72e",
   "metadata": {},
   "outputs": [
    {
     "data": {
      "text/plain": [
       "1656     7\n",
       "752     16\n",
       "892     15\n",
       "1041    13\n",
       "1179    12\n",
       "        ..\n",
       "1638     7\n",
       "1095    13\n",
       "1130    12\n",
       "1294    11\n",
       "860     15\n",
       "Name: crop_num, Length: 1760, dtype: int64"
      ]
     },
     "execution_count": 39,
     "metadata": {},
     "output_type": "execute_result"
    }
   ],
   "source": [
    "y_train"
   ]
  },
  {
   "cell_type": "code",
   "execution_count": null,
   "id": "ff69dee5",
   "metadata": {},
   "outputs": [
    {
     "name": "stdout",
     "output_type": "stream",
     "text": [
      "Accuracy = 0.9931818181818182 (RANDOM FOREST)\n",
      "Accuracy = 0.9954545454545455 (GAUSIAN NAIVE BAYS)\n",
      "Accuracy = 0.9818181818181818 (DECISION TREE)\n",
      "Accuracy = 0.9704545454545455 (K-NEAREST)\n"
     ]
    }
   ],
   "source": [
    "# RANDOM FOREST\n",
    "varRFC = RandomForest()\n",
    "varRFC.fit(X_train, y_train)\n",
    "ypred = varRFC.predict(X_test)\n",
    "accuracy_valueRFC = accuracy_score(y_test, ypred)\n",
    "print(f\"Accuracy = {accuracy_valueRFC} (RANDOM FOREST)\")\n",
    "# same as the above result individually\n",
    "\n",
    "\n",
    "# NAIVE BAYS\n",
    "varNB = NaiveBayes()\n",
    "varNB.fit(X_train, y_train)\n",
    "ypred = varNB.predict(X_test)\n",
    "accuracy_valueNB = accuracy_score(y_test, ypred)\n",
    "print(f\"Accuracy = {accuracy_valueNB} (GAUSIAN NAIVE BAYS)\")\n",
    "\n",
    "\n",
    "\n",
    "# DECISION TREEE CLASSIFICATION\n",
    "varDT = DecisionTree()\n",
    "varDT.fit(X_train, y_train)\n",
    "ypred = varDT.predict(X_test)\n",
    "accuracy_valueDTC = accuracy_score(y_test, ypred)\n",
    "print(f\"Accuracy = {accuracy_valueDTC} (DECISION TREE)\")\n",
    "\n",
    "\n",
    "# K-NEAREST NEIGHBOUR\n",
    "varKNN = KNN()\n",
    "varKNN.fit(X_train, y_train)\n",
    "ypred = varKNN.predict(X_test)\n",
    "accuracy_valueKNN = accuracy_score(y_test, ypred)\n",
    "print(f\"Accuracy = {accuracy_valueKNN} (K-NEAREST)\")"
   ]
  },
  {
   "cell_type": "code",
   "execution_count": 41,
   "id": "f856b97f",
   "metadata": {},
   "outputs": [],
   "source": [
    "import pickle\n",
    "pickle.dump(varRFC,open('modelRFC.pkl', 'wb'))\n",
    "pickle.dump(accuracy_valueRFC, open('accuracy_modelRFC.pkl', 'wb'))\n",
    "pickle.dump(accuracy_valueNB, open('accuracy_modelNB.pkl', 'wb'))\n",
    "pickle.dump(accuracy_valueDTC, open('accuracy_modelDT.pkl', 'wb'))\n",
    "pickle.dump(accuracy_valueKNN, open('accuracy_modelKNN.pkl', 'wb'))"
   ]
  },
  {
   "cell_type": "code",
   "execution_count": 42,
   "id": "19b12df4",
   "metadata": {},
   "outputs": [],
   "source": [
    "crop_dict = {\n",
    "    1: \"rice\",\n",
    "    2: 'maize',\n",
    "    3: 'jute',\n",
    "    4: 'cotton',\n",
    "    5: 'coconut',\n",
    "    6: 'papaya',\n",
    "    7: 'orange',\n",
    "    8: 'apple',\n",
    "    9: 'muskmelon',\n",
    "    10: 'watermelon',\n",
    "    11: 'grapes',\n",
    "    12: 'mango',\n",
    "    13: 'banana',\n",
    "    14: 'pomegranate',\n",
    "    15: 'lentil',\n",
    "    16: 'blackgram',\n",
    "    17: 'mungbean',\n",
    "    18: 'mothbeans',\n",
    "    19: 'pigeonpeas',\n",
    "    20: 'kidneybeans',\n",
    "    21: 'chickpea',\n",
    "    22: 'coffee'\n",
    "}"
   ]
  },
  {
   "cell_type": "code",
   "execution_count": 43,
   "id": "4d1f7d8b",
   "metadata": {},
   "outputs": [
    {
     "name": "stdout",
     "output_type": "stream",
     "text": [
      "13\n",
      "#banana is the best recommended by (K_NEAREST ALGORITHM)\n",
      "with the accuracy rate of 0.9704545454545455\n"
     ]
    }
   ],
   "source": [
    "# PREDICTIVE SYSTEM FOR NAIVE-BAYS METHOD----1\n",
    "# function creating\n",
    "def recommendation(N,P,K,temperature, humidity, ph, rainfall):\n",
    "    features = np.array([[N,P,K,temperature, humidity, ph, rainfall]])\n",
    "    prediction = varNB.predict(features).reshape(1, -1)\n",
    "    return prediction[0]\n",
    "\n",
    "N = 99\n",
    "P = 10\n",
    "K = 100\n",
    "temperature = 22\n",
    "humidity = 4\n",
    "ph = 5\n",
    "rainfall = 50\n",
    "\n",
    "# function calling\n",
    "predict = recommendation(N,P,K,temperature, humidity, ph, rainfall)\n",
    "\n",
    "print(predict[0])\n",
    "\n",
    "if predict[0] in crop_dict:\n",
    "\n",
    "    crop = crop_dict[predict[0]]\n",
    "    print(f\"#{crop} is the best recommended by (K_NEAREST ALGORITHM)\".format(crop))\n",
    "    print(f\"with the accuracy rate of {accuracy_valueKNN}\")\n",
    "else:\n",
    "    print(\"Please try again for recommendation\")\n",
    "    "
   ]
  },
  {
   "cell_type": "code",
   "execution_count": 44,
   "id": "d4d0bdfb",
   "metadata": {},
   "outputs": [
    {
     "name": "stdout",
     "output_type": "stream",
     "text": [
      "#apple is the best recommended by (RANDOM FOREST)\n",
      "with the accuracy rate of 0.9931818181818182\n"
     ]
    }
   ],
   "source": [
    "# PREDICTIVE SYSTEM FOR RANDOM FOREST METHOD-------2\n",
    "# function creating\n",
    "def recommendation(N,P,K,temperature, humidity, ph, rainfall):\n",
    "    features = np.array([[N,P,K,temperature, humidity, ph, rainfall]])\n",
    "    prediction = varRFC.predict(features).reshape(1, -1)\n",
    "    return prediction[0]\n",
    "\n",
    "N = 99\n",
    "P = 10\n",
    "K = 100\n",
    "temperature = 22\n",
    "humidity = 4\n",
    "ph = 5\n",
    "rainfall = 50\n",
    "\n",
    "\n",
    "# function calling\n",
    "predict = recommendation(N,P,K,temperature, humidity, ph, rainfall)\n",
    "\n",
    "# crop_dict = {\n",
    "#     1: \"rice\",\n",
    "#     2: 'maize',\n",
    "#     3: 'jute',\n",
    "#     4: 'cotton',\n",
    "#     5: 'coconut',\n",
    "#     6: 'papaya',\n",
    "#     7: 'orange',\n",
    "#     8: 'apple',\n",
    "#     9: 'muskmelon',\n",
    "#     10: 'watermelon',\n",
    "#     11: 'grapes',\n",
    "#     12: 'mango',\n",
    "#     13: 'banana',\n",
    "#     14: 'pomegranate',\n",
    "#     15: 'lentil',\n",
    "#     16: 'blackgram',\n",
    "#     17: 'mungbean',\n",
    "#     18: 'mothbeans',\n",
    "#     19: 'pigeonpeas',\n",
    "#     20: 'kidneybeans',\n",
    "#     21: 'chickpea',\n",
    "#     22: 'coffee'\n",
    "# }\n",
    "\n",
    "if predict[0] in crop_dict:\n",
    "    crop = crop_dict[predict[0]]\n",
    "    print(f\"#{crop} is the best recommended by (RANDOM FOREST)\".format(crop))\n",
    "    print(f\"with the accuracy rate of {accuracy_valueRFC}\")\n",
    "else:\n",
    "    print(\"Please try again for recommendation\")\n",
    "    "
   ]
  },
  {
   "cell_type": "code",
   "execution_count": 45,
   "id": "3ae7f6d8",
   "metadata": {},
   "outputs": [
    {
     "name": "stdout",
     "output_type": "stream",
     "text": [
      "apple is the best recommended by (DECISION TREE)\n",
      "with the accuracy rate of 0.9818181818181818\n"
     ]
    }
   ],
   "source": [
    "# PREDICTIVE SYSTEM FOR DECISION TREE METHOD-------3\n",
    "# function creating\n",
    "def recommendation(N,P,K,temperature, humidity, ph, rainfall):\n",
    "    features = np.array([[N,P,K,temperature, humidity, ph, rainfall]])\n",
    "    prediction = varDT.predict(features).reshape(1, -1)\n",
    "    return prediction[0]\n",
    "\n",
    "N = 99\n",
    "P = 10\n",
    "K = 100\n",
    "temperature = 22\n",
    "humidity = 4\n",
    "ph = 5\n",
    "rainfall = 50\n",
    "\n",
    "\n",
    "# function calling\n",
    "predict = recommendation(N,P,K,temperature, humidity, ph, rainfall)\n",
    "\n",
    "# crop_dict = {\n",
    "#     1: \"rice\",\n",
    "#     2: 'maize',\n",
    "#     3: 'jute',\n",
    "#     4: 'cotton',\n",
    "#     5: 'coconut',\n",
    "#     6: 'papaya',\n",
    "#     7: 'orange',\n",
    "#     8: 'apple',\n",
    "#     9: 'muskmelon',\n",
    "#     10: 'watermelon',\n",
    "#     11: 'grapes',\n",
    "#     12: 'mango',\n",
    "#     13: 'banana',\n",
    "#     14: 'pomegranate',\n",
    "#     15: 'lentil',\n",
    "#     16: 'blackgram',\n",
    "#     17: 'mungbean',\n",
    "#     18: 'mothbeans',\n",
    "#     19: 'pigeonpeas',\n",
    "#     20: 'kidneybeans',\n",
    "#     21: 'chickpea',\n",
    "#     22: 'coffee'\n",
    "# }\n",
    "\n",
    "if predict[0] in crop_dict:\n",
    "    crop = crop_dict[predict[0]]\n",
    "    print(f\"{crop} is the best recommended by (DECISION TREE)\".format(crop))\n",
    "    print(f\"with the accuracy rate of {accuracy_valueDTC}\")\n",
    "else:\n",
    "    print(\"Please try again for recommendation\")\n",
    "    "
   ]
  },
  {
   "cell_type": "code",
   "execution_count": 46,
   "id": "f1b6ff7f",
   "metadata": {},
   "outputs": [
    {
     "name": "stdout",
     "output_type": "stream",
     "text": [
      "#grapes is the best recommended by (K_NEAREST ALGORITHM)\n",
      "with the accuracy rate of 0.9704545454545455\n"
     ]
    }
   ],
   "source": [
    "# PREDICTIVE SYSTEM FOR K-NEAREST METHOD----------4\n",
    "# function creating\n",
    "def recommendation(N,P,K,temperature, humidity, ph, rainfall):\n",
    "    features = np.array([[N,P,K,temperature, humidity, ph, rainfall]])\n",
    "    prediction = varKNN.predict(features).reshape(1, -1)\n",
    "    return prediction[0]\n",
    "\n",
    "N = 99\n",
    "P = 10\n",
    "K = 100\n",
    "temperature = 22\n",
    "humidity = 4\n",
    "ph = 5\n",
    "rainfall = 50\n",
    "\n",
    "\n",
    "# function calling\n",
    "predict = recommendation(N,P,K,temperature, humidity, ph, rainfall)\n",
    "\n",
    "# crop_dict = {\n",
    "#     1: \"rice\",\n",
    "#     2: 'maize',\n",
    "#     3: 'jute',\n",
    "#     4: 'cotton',\n",
    "#     5: 'coconut',\n",
    "#     6: 'papaya',\n",
    "#     7: 'orange',\n",
    "#     8: 'apple',\n",
    "#     9: 'muskmelon',\n",
    "#     10: 'watermelon',\n",
    "#     11: 'grapes',\n",
    "#     12: 'mango',\n",
    "#     13: 'banana',\n",
    "#     14: 'pomegranate',\n",
    "#     15: 'lentil',\n",
    "#     16: 'blackgram',\n",
    "#     17: 'mungbean',\n",
    "#     18: 'mothbeans',\n",
    "#     19: 'pigeonpeas',\n",
    "#     20: 'kidneybeans',\n",
    "#     21: 'chickpea',\n",
    "#     22: 'coffee'\n",
    "# }\n",
    "\n",
    "if predict[0] in crop_dict:\n",
    "    crop = crop_dict[predict[0]]\n",
    "    print(f\"#{crop} is the best recommended by (K_NEAREST ALGORITHM)\".format(crop))\n",
    "    print(f\"with the accuracy rate of {accuracy_valueKNN}\")\n",
    "else:\n",
    "    print(\"Please try again for recommendation\")\n",
    "    "
   ]
  },
  {
   "cell_type": "code",
   "execution_count": 47,
   "id": "8fc0cfb5",
   "metadata": {},
   "outputs": [
    {
     "data": {
      "text/plain": [
       "{1: 'rice',\n",
       " 2: 'maize',\n",
       " 3: 'jute',\n",
       " 4: 'cotton',\n",
       " 5: 'coconut',\n",
       " 6: 'papaya',\n",
       " 7: 'orange',\n",
       " 8: 'apple',\n",
       " 9: 'muskmelon',\n",
       " 10: 'watermelon',\n",
       " 11: 'grapes',\n",
       " 12: 'mango',\n",
       " 13: 'banana',\n",
       " 14: 'pomegranate',\n",
       " 15: 'lentil',\n",
       " 16: 'blackgram',\n",
       " 17: 'mungbean',\n",
       " 18: 'mothbeans',\n",
       " 19: 'pigeonpeas',\n",
       " 20: 'kidneybeans',\n",
       " 21: 'chickpea',\n",
       " 22: 'coffee'}"
      ]
     },
     "execution_count": 47,
     "metadata": {},
     "output_type": "execute_result"
    }
   ],
   "source": [
    "crop_dict"
   ]
  },
  {
   "cell_type": "code",
   "execution_count": 48,
   "id": "25d065a7",
   "metadata": {},
   "outputs": [
    {
     "data": {
      "text/plain": [
       "1451     9\n",
       "1334    10\n",
       "1761     6\n",
       "1735     6\n",
       "1576     8\n",
       "        ..\n",
       "59       1\n",
       "71       1\n",
       "1908     4\n",
       "1958     4\n",
       "482     19\n",
       "Name: crop_num, Length: 440, dtype: int64"
      ]
     },
     "execution_count": 48,
     "metadata": {},
     "output_type": "execute_result"
    }
   ],
   "source": [
    "y_test"
   ]
  },
  {
   "cell_type": "code",
   "execution_count": 49,
   "id": "f1affb36",
   "metadata": {},
   "outputs": [
    {
     "data": {
      "text/plain": [
       "array([ 9, 10,  6,  6,  8, 12,  8, 18, 17, 15, 16,  5, 14,  3,  5, 14,  8,\n",
       "        2,  6,  9, 22,  6,  7,  6, 21,  3, 17,  7, 19,  3, 14, 15,  3, 15,\n",
       "        3, 16,  3, 21, 21, 20,  6, 12, 16,  2, 17,  2, 19,  5,  9,  2, 16,\n",
       "       22, 11, 17, 22, 20,  4,  8, 13, 15, 10,  5, 15,  7,  6, 16,  7,  1,\n",
       "        9, 19,  9,  5,  3, 13, 16,  6, 13,  4, 10,  7, 22, 21,  1, 18,  7,\n",
       "       12, 22, 18, 16, 14,  2, 18,  4,  6, 19, 18, 20, 22, 16, 15,  5,  3,\n",
       "        7,  9, 10, 20, 10, 13, 19, 18, 13,  3,  4, 14, 19, 21,  2,  5, 14,\n",
       "        1, 19, 11, 16,  5, 21, 16,  5,  2, 13, 18, 13, 20, 14, 21,  5,  7,\n",
       "       19, 13, 13,  8, 20,  9, 17, 18,  5,  2,  8,  5, 20, 18, 17, 15, 10,\n",
       "       17, 19, 19, 19, 20,  2,  3, 21,  8,  7,  4,  1,  5, 11, 15, 10, 11,\n",
       "       11, 16, 14, 21,  5,  2, 15, 11, 10,  3, 22, 22, 20,  3, 18, 20, 13,\n",
       "       20,  5,  6,  6, 17, 12, 14, 10, 20,  2,  8, 16, 21, 11, 11, 13,  4,\n",
       "        1, 14, 17, 13,  3, 17,  2, 21, 21, 21,  8,  1, 20,  6, 22, 16, 20,\n",
       "       12, 12,  5,  6,  8, 21, 14, 21,  9,  8,  9,  9, 12, 12,  4,  5, 14,\n",
       "        1,  9, 22,  6, 15,  2, 12,  9, 19, 17, 22, 11,  5,  4, 19,  1,  8,\n",
       "       14, 22, 21,  4,  3, 12, 13,  6,  8, 21,  1, 19, 18, 17,  3, 14, 11,\n",
       "       18,  3,  2,  5,  2, 21, 13,  3,  5,  3, 12,  9,  8, 13, 19, 16,  7,\n",
       "       21, 10, 13,  8, 21, 22, 19,  7,  8,  5,  6, 10, 18,  6, 21, 14, 21,\n",
       "        6, 15,  8, 14, 21, 12, 21, 14, 10, 20, 17,  9, 10, 20,  9, 12,  3,\n",
       "       16, 21, 13, 16, 19,  6, 20, 17,  5,  4, 11,  8, 15, 13,  3,  8, 14,\n",
       "        8, 17,  9, 22, 22, 19,  3, 20, 13,  2,  3,  2, 19, 12, 20, 14, 10,\n",
       "       16,  2,  1, 18, 20, 12,  4,  6, 18,  4, 17,  7,  1, 16, 17, 22, 13,\n",
       "       19,  6,  8, 14,  2, 12,  5,  8, 15,  3, 18, 15,  5, 16,  3, 17,  4,\n",
       "       10,  8, 11,  5, 11, 10,  3, 12, 12, 22, 14, 13, 11,  3,  7,  4, 12,\n",
       "        6,  9, 18,  3, 21, 18, 14, 10, 18,  4,  6, 10, 15,  1,  5, 18, 18,\n",
       "        2,  1,  2,  5,  7, 14, 20, 10, 17, 16,  1,  1,  4,  4, 20])"
      ]
     },
     "execution_count": 49,
     "metadata": {},
     "output_type": "execute_result"
    }
   ],
   "source": [
    "ypred"
   ]
  },
  {
   "cell_type": "code",
   "execution_count": 50,
   "id": "940dbd56",
   "metadata": {},
   "outputs": [
    {
     "name": "stdout",
     "output_type": "stream",
     "text": [
      "Confusion Matris is:\n",
      "[[ 0  0]\n",
      " [ 0 14]]\n"
     ]
    }
   ],
   "source": [
    "# CONFUSION MATRIX\n",
    "from sklearn.metrics import confusion_matrix\n",
    "cm = confusion_matrix(y_test, ypred, labels=[0,1])\n",
    "print(\"Confusion Matris is:\")\n",
    "print(cm)"
   ]
  },
  {
   "cell_type": "code",
   "execution_count": 51,
   "id": "324a8355",
   "metadata": {},
   "outputs": [
    {
     "data": {
      "image/png": "[encoded data removed]",
      "text/plain": [
       "<Figure size 640x480 with 2 Axes>"
      ]
     },
     "metadata": {},
     "output_type": "display_data"
    }
   ],
   "source": [
    "import seaborn as sns\n",
    "import matplotlib.pyplot as plt\n",
    "\n",
    "sns.heatmap(cm, cmap=\"Reds\", annot=True, cbar_kws={\"orientation\":\"vertical\"})\n",
    "plt.title(\"SIMPLE CONFUSION MATRIX\")\n",
    "plt.show()"
   ]
  },
  {
   "cell_type": "code",
   "execution_count": 52,
   "id": "3583f184",
   "metadata": {},
   "outputs": [
    {
     "data": {
      "image/png": "[encoded data removed]",
      "text/plain": [
       "<Figure size 640x480 with 2 Axes>"
      ]
     },
     "metadata": {},
     "output_type": "display_data"
    }
   ],
   "source": [
    "import seaborn as sns\n",
    "import matplotlib.pyplot as plt\n",
    "sns.heatmap(cm, cmap=\"Greens\", annot=True, cbar_kws={\"orientation\":\"vertical\"})\n",
    "plt.xlabel(\"Predicted\")\n",
    "plt.ylabel(\"Actual\")\n",
    "plt.title(\"LABELED CONFUSION MATRIX\")\n",
    "plt.show()"
   ]
  },
  {
   "cell_type": "code",
   "execution_count": 53,
   "id": "9c00152a",
   "metadata": {
    "scrolled": false
   },
   "outputs": [
    {
     "name": "stdout",
     "output_type": "stream",
     "text": [
      "Normalised Confusion Matris is:\n",
      "[[nan nan]\n",
      " [ 0.  1.]]\n"
     ]
    },
    {
     "name": "stderr",
     "output_type": "stream",
     "text": [
      "/tmp/ipykernel_22485/514110772.py:4: RuntimeWarning: invalid value encountered in divide\n",
      "  cm_normalised = np.round(cm/np.sum(cm,axis=1).reshape(-1,1),2)\n"
     ]
    },
    {
     "data": {
      "image/png": "[encoded data removed]",
      "text/plain": [
       "<Figure size 640x480 with 2 Axes>"
      ]
     },
     "metadata": {},
     "output_type": "display_data"
    }
   ],
   "source": [
    "import seaborn as sns\n",
    "from sklearn.metrics import confusion_matrix\n",
    "cm = confusion_matrix(y_test, ypred, labels=[0,1])\n",
    "cm_normalised = np.round(cm/np.sum(cm,axis=1).reshape(-1,1),2)\n",
    "\n",
    "print(\"Normalised Confusion Matris is:\")\n",
    "print(cm_normalised)\n",
    "import matplotlib.pyplot as plt\n",
    "sns.heatmap(cm_normalised, cmap=\"Purples\", annot=True)\n",
    "plt.xlabel(\"Predicted\")\n",
    "plt.ylabel(\"Actual\")\n",
    "plt.title(\"NORMALISED CONFUSION MATRIX\")\n",
    "plt.show()"
   ]
  },
  {
   "cell_type": "code",
   "execution_count": 54,
   "id": "f5b45235",
   "metadata": {},
   "outputs": [
    {
     "data": {
      "text/plain": [
       "1451     9\n",
       "1334    10\n",
       "1761     6\n",
       "1735     6\n",
       "1576     8\n",
       "        ..\n",
       "59       1\n",
       "71       1\n",
       "1908     4\n",
       "1958     4\n",
       "482     19\n",
       "Name: crop_num, Length: 440, dtype: int64"
      ]
     },
     "execution_count": 54,
     "metadata": {},
     "output_type": "execute_result"
    }
   ],
   "source": [
    "y_test"
   ]
  },
  {
   "cell_type": "code",
   "execution_count": 55,
   "id": "fe05c0b4",
   "metadata": {},
   "outputs": [
    {
     "data": {
      "text/plain": [
       "array([ 9, 10,  6,  6,  8, 12,  8, 18, 17, 15, 16,  5, 14,  3,  5, 14,  8,\n",
       "        2,  6,  9, 22,  6,  7,  6, 21,  3, 17,  7, 19,  3, 14, 15,  3, 15,\n",
       "        3, 16,  3, 21, 21, 20,  6, 12, 16,  2, 17,  2, 19,  5,  9,  2, 16,\n",
       "       22, 11, 17, 22, 20,  4,  8, 13, 15, 10,  5, 15,  7,  6, 16,  7,  1,\n",
       "        9, 19,  9,  5,  3, 13, 16,  6, 13,  4, 10,  7, 22, 21,  1, 18,  7,\n",
       "       12, 22, 18, 16, 14,  2, 18,  4,  6, 19, 18, 20, 22, 16, 15,  5,  3,\n",
       "        7,  9, 10, 20, 10, 13, 19, 18, 13,  3,  4, 14, 19, 21,  2,  5, 14,\n",
       "        1, 19, 11, 16,  5, 21, 16,  5,  2, 13, 18, 13, 20, 14, 21,  5,  7,\n",
       "       19, 13, 13,  8, 20,  9, 17, 18,  5,  2,  8,  5, 20, 18, 17, 15, 10,\n",
       "       17, 19, 19, 19, 20,  2,  3, 21,  8,  7,  4,  1,  5, 11, 15, 10, 11,\n",
       "       11, 16, 14, 21,  5,  2, 15, 11, 10,  3, 22, 22, 20,  3, 18, 20, 13,\n",
       "       20,  5,  6,  6, 17, 12, 14, 10, 20,  2,  8, 16, 21, 11, 11, 13,  4,\n",
       "        1, 14, 17, 13,  3, 17,  2, 21, 21, 21,  8,  1, 20,  6, 22, 16, 20,\n",
       "       12, 12,  5,  6,  8, 21, 14, 21,  9,  8,  9,  9, 12, 12,  4,  5, 14,\n",
       "        1,  9, 22,  6, 15,  2, 12,  9, 19, 17, 22, 11,  5,  4, 19,  1,  8,\n",
       "       14, 22, 21,  4,  3, 12, 13,  6,  8, 21,  1, 19, 18, 17,  3, 14, 11,\n",
       "       18,  3,  2,  5,  2, 21, 13,  3,  5,  3, 12,  9,  8, 13, 19, 16,  7,\n",
       "       21, 10, 13,  8, 21, 22, 19,  7,  8,  5,  6, 10, 18,  6, 21, 14, 21,\n",
       "        6, 15,  8, 14, 21, 12, 21, 14, 10, 20, 17,  9, 10, 20,  9, 12,  3,\n",
       "       16, 21, 13, 16, 19,  6, 20, 17,  5,  4, 11,  8, 15, 13,  3,  8, 14,\n",
       "        8, 17,  9, 22, 22, 19,  3, 20, 13,  2,  3,  2, 19, 12, 20, 14, 10,\n",
       "       16,  2,  1, 18, 20, 12,  4,  6, 18,  4, 17,  7,  1, 16, 17, 22, 13,\n",
       "       19,  6,  8, 14,  2, 12,  5,  8, 15,  3, 18, 15,  5, 16,  3, 17,  4,\n",
       "       10,  8, 11,  5, 11, 10,  3, 12, 12, 22, 14, 13, 11,  3,  7,  4, 12,\n",
       "        6,  9, 18,  3, 21, 18, 14, 10, 18,  4,  6, 10, 15,  1,  5, 18, 18,\n",
       "        2,  1,  2,  5,  7, 14, 20, 10, 17, 16,  1,  1,  4,  4, 20])"
      ]
     },
     "execution_count": 55,
     "metadata": {},
     "output_type": "execute_result"
    }
   ],
   "source": [
    "ypred"
   ]
  },
  {
   "cell_type": "code",
   "execution_count": 56,
   "id": "f7512e2c",
   "metadata": {},
   "outputs": [
    {
     "name": "stdout",
     "output_type": "stream",
     "text": [
      "              precision    recall  f1-score   support\n",
      "\n",
      "           1       0.93      0.74      0.82        19\n",
      "           2       1.00      1.00      1.00        21\n",
      "           3       0.81      0.96      0.88        23\n",
      "           4       1.00      1.00      1.00        17\n",
      "           5       1.00      1.00      1.00        27\n",
      "           6       1.00      1.00      1.00        23\n",
      "           7       1.00      1.00      1.00        14\n",
      "           8       1.00      1.00      1.00        23\n",
      "           9       1.00      1.00      1.00        17\n",
      "          10       1.00      1.00      1.00        19\n",
      "          11       1.00      1.00      1.00        14\n",
      "          12       1.00      1.00      1.00        19\n",
      "          13       1.00      1.00      1.00        21\n",
      "          14       1.00      1.00      1.00        23\n",
      "          15       0.73      1.00      0.85        11\n",
      "          16       0.95      0.95      0.95        20\n",
      "          17       1.00      1.00      1.00        19\n",
      "          18       1.00      0.88      0.93        24\n",
      "          19       1.00      0.87      0.93        23\n",
      "          20       0.91      1.00      0.95        20\n",
      "          21       1.00      1.00      1.00        26\n",
      "          22       1.00      1.00      1.00        17\n",
      "\n",
      "    accuracy                           0.97       440\n",
      "   macro avg       0.97      0.97      0.97       440\n",
      "weighted avg       0.97      0.97      0.97       440\n",
      "\n"
     ]
    }
   ],
   "source": [
    "import seaborn as sns\n",
    "from sklearn.metrics import classification_report\n",
    "print(classification_report(y_test, ypred))"
   ]
  },
  {
   "cell_type": "code",
   "execution_count": 57,
   "id": "5836f85f",
   "metadata": {},
   "outputs": [],
   "source": [
    "# MODEL GENERATION\n",
    "# HOW TO GENERATE MODEL\n",
    "import pickle\n",
    "pickle.dump(varRFC,open('modelRFC.pkl', 'wb'))\n",
    "pickle.dump(varNB,open('modelNB.pkl', 'wb'))\n",
    "pickle.dump(varDT,open('modelDT.pkl', 'wb'))\n",
    "pickle.dump(varKNN,open('modelKNN.pkl', 'wb'))"
   ]
  }
 ],
 "metadata": {
  "kernelspec": {
   "display_name": "virt",
   "language": "python",
   "name": "python3"
  },
  "language_info": {
   "codemirror_mode": {
    "name": "ipython",
    "version": 3
   },
   "file_extension": ".py",
   "mimetype": "text/x-python",
   "name": "python",
   "nbconvert_exporter": "python",
   "pygments_lexer": "ipython3",
   "version": "3.12.7"
  }
 },
 "nbformat": 4,
 "nbformat_minor": 5
}
